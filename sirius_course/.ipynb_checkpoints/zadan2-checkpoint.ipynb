{
 "cells": [
  {
   "cell_type": "code",
   "execution_count": 6,
   "metadata": {},
   "outputs": [
    {
     "name": "stdout",
     "output_type": "stream",
     "text": [
      "0\n",
      "['7TAX 9215', '6TEX 9125', 'a236ye 73', '21-14 BOT', '3412 0321 GR', '1TBX 0021-7', '2-TBX 0001', '1TBX 0000', '1TBX 0020']\n"
     ]
    }
   ],
   "source": [
    "n = int(input())\n",
    "list_num = list()\n",
    "for i in range(n):\n",
    "    list_num.append(raw_input().strip())\n",
    "list_num = list(['7TAX 9215', '6TEX 9125', 'a236ye 73', '21-14 BOT', '3412 0321 GR', '1TBX 0021-7', '2-TBX 0001', \n",
    "                 '1TBX 0000', '1TBX 0020'])\n",
    "print list_num"
   ]
  },
  {
   "cell_type": "code",
   "execution_count": 12,
   "metadata": {},
   "outputs": [
    {
     "name": "stdout",
     "output_type": "stream",
     "text": [
      "['7TAX 9215']\n",
      "['6TEX 9125', '21-14 BOT', '3412 0321 GR', '1TBX 0021-7', '2-TBX 0001', '1TBX 0000', '1TBX 0020']\n"
     ]
    }
   ],
   "source": [
    "list_num_7 = list()\n",
    "list_num_06 = list()\n",
    "n=9\n",
    "for i in range(n):\n",
    "    s0 = list_num[i][:1]\n",
    "    if s0 =='7':\n",
    "        list_num_7.append(list_num[i])\n",
    "    elif s0 == '0' or s0 == '1' or s0 == '2' or s0 == '3' or s0 == '4' or s0 == '5' or s0 == '6':\n",
    "        list_num_06.append(list_num[i])\n",
    "print list_num_7\n",
    "print list_num_06"
   ]
  },
  {
   "cell_type": "code",
   "execution_count": null,
   "metadata": {},
   "outputs": [],
   "source": []
  }
 ],
 "metadata": {
  "kernelspec": {
   "display_name": "Python 2",
   "language": "python",
   "name": "python2"
  },
  "language_info": {
   "codemirror_mode": {
    "name": "ipython",
    "version": 2
   },
   "file_extension": ".py",
   "mimetype": "text/x-python",
   "name": "python",
   "nbconvert_exporter": "python",
   "pygments_lexer": "ipython2",
   "version": "2.7.16"
  }
 },
 "nbformat": 4,
 "nbformat_minor": 2
}
