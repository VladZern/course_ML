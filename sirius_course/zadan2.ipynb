{
 "cells": [
  {
   "cell_type": "code",
   "execution_count": null,
   "metadata": {},
   "outputs": [],
   "source": []
  },
  {
   "cell_type": "code",
   "execution_count": 15,
   "metadata": {},
   "outputs": [
    {
     "name": "stdout",
     "output_type": "stream",
     "text": [
      "['7TAX 0005', '6TEX 9125', 'a236ye 73', '21-14 BOT', ' 3412 0321 GR', '1TBX 0021-7', '2-TBX 0001', '1TBX 0000 ', '1TBX 0020']\n"
     ]
    }
   ],
   "source": [
    "#n = int(input())\n",
    "n=0\n",
    "list_num = list()\n",
    "for i in range(n):\n",
    "    list_num.append(raw_input().strip())\n",
    "list_num = list(['7TAX 0005', '6TEX 9125', 'a236ye 73', '21-14 BOT', ' 3412 0321 GR', '1TBX 0021-7', '2-TBX 0001', \n",
    "                 '1TBX 0000 ', '1TBX 0020'])\n",
    "print list_num"
   ]
  },
  {
   "cell_type": "code",
   "execution_count": 19,
   "metadata": {},
   "outputs": [
    {
     "name": "stdout",
     "output_type": "stream",
     "text": [
      "['7TAX 0005']\n",
      "['1TBX 0020']\n",
      "2\n"
     ]
    }
   ],
   "source": [
    "list_num_7 = list()\n",
    "list_num_06 = list()\n",
    "n=9\n",
    "sc=0\n",
    "for i in range(n):\n",
    "    if len(list_num[i])==9: #проверка длины номера\n",
    "        s0 = list_num[i][:1] #проверка региона\n",
    "        s1 = list_num[i][1:5] #проверка буквенной части\n",
    "        s2 = list_num[i][5:]\n",
    "        if s0 =='7' and (s1=='TAX ' or s1=='TBX ' or s1=='TEX '):\n",
    "            if s2.isdigit():\n",
    "                if int(s2)>0:\n",
    "                    list_num_7.append(list_num[i])\n",
    "                    sc +=1\n",
    "        elif (s0 == '0' or s0 == '1' or s0 == '2' or s0 == '3' or s0 == '4' or s0 == '5' or s0 == '6'):\n",
    "            if s1=='TAX ' or s1=='TBX ':\n",
    "                if s2.isdigit():\n",
    "                    if int(s2)>0:\n",
    "                        list_num_06.append(list_num[i])\n",
    "                        sc += 1\n",
    "print list_num_7\n",
    "print list_num_06\n",
    "print sc"
   ]
  },
  {
   "cell_type": "code",
   "execution_count": 20,
   "metadata": {},
   "outputs": [
    {
     "name": "stdout",
     "output_type": "stream",
     "text": [
      "1\n",
      "7TAX 0005\n",
      "1\n"
     ]
    }
   ],
   "source": [
    "n = int(input())\n",
    "list_num = list()\n",
    "list_num_7 = list()\n",
    "list_num_06 = list()\n",
    "sc=0\n",
    "for i in range(n):\n",
    "    list_num.append(raw_input().strip())\n",
    "    if len(list_num[i])==9: #проверка длины номера\n",
    "        s0 = list_num[i][:1] #проверка региона\n",
    "        s1 = list_num[i][1:5] #проверка буквенной части\n",
    "        s2 = list_num[i][5:]\n",
    "        if s0 =='7' and (s1=='TAX ' or s1=='TBX ' or s1=='TEX '):\n",
    "            if s2.isdigit():\n",
    "                if int(s2)>0:\n",
    "                    list_num_7.append(list_num[i])\n",
    "                    sc +=1\n",
    "        elif (s0 == '0' or s0 == '1' or s0 == '2' or s0 == '3' or s0 == '4' or s0 == '5' or s0 == '6'):\n",
    "            if s1=='TAX ' or s1=='TBX ':\n",
    "                if s2.isdigit():\n",
    "                    if int(s2)>0:\n",
    "                        list_num_06.append(list_num[i])\n",
    "                        sc += 1\n",
    "print sc"
   ]
  },
  {
   "cell_type": "code",
   "execution_count": 43,
   "metadata": {},
   "outputs": [
    {
     "name": "stdout",
     "output_type": "stream",
     "text": [
      "['7TAX 9215\\n', '6TEX 9125\\n', 'a236ye 73\\n', '21-14 BOT\\n', '3412 0321 GR\\n', '1TBX 0021-7\\n', '2-TBX 0001\\n', '1TBX 0000\\n', '1TBX 0020']\n",
      "['7TAX 9215', '6TEX 9125', 'a236ye 73', '21-14 BOT', '3412 0321 GR', '1TBX 0021-7', '2-TBX 0001', '1TBX 0000', '1TBX 0020']\n",
      "2\n"
     ]
    }
   ],
   "source": [
    "fin = open('taxi.txt')\n",
    "p=0\n",
    "list_num = list()\n",
    "list_num2 = list()\n",
    "list_num_7 = list()\n",
    "list_num_06 = list()\n",
    "sc=0\n",
    "for line in fin:\n",
    "    if p==0:\n",
    "        n=int(line)\n",
    "        p=1\n",
    "    else:\n",
    "        list_num.append(line)\n",
    "for i in range(len(list_num)-1):\n",
    "    list_num2.append(list_num[i][:-1])\n",
    "list_num2.append(list_num[-1])\n",
    "print list_num\n",
    "print list_num2\n",
    "for i in range(len(list_num2)):\n",
    "    if len(list_num2[i])==9: #проверка длины номера\n",
    "        s0 = list_num2[i][:1] #проверка региона\n",
    "        s1 = list_num2[i][1:5] #проверка буквенной части\n",
    "        s2 = list_num2[i][5:]\n",
    "        if s0 =='7' and (s1=='TAX ' or s1=='TBX ' or s1=='TEX '):\n",
    "            if s2.isdigit():\n",
    "                if int(s2)>0:\n",
    "                    list_num_7.append(list_num2[i])\n",
    "                    sc +=1\n",
    "        elif (s0 == '0' or s0 == '1' or s0 == '2' or s0 == '3' or s0 == '4' or s0 == '5' or s0 == '6'):\n",
    "            if s1=='TAX ' or s1=='TBX ':\n",
    "                if s2.isdigit():\n",
    "                    if int(s2)>0:\n",
    "                        list_num_06.append(list_num[i])\n",
    "                        sc += 1\n",
    "print sc"
   ]
  },
  {
   "cell_type": "code",
   "execution_count": null,
   "metadata": {},
   "outputs": [],
   "source": []
  },
  {
   "cell_type": "code",
   "execution_count": null,
   "metadata": {},
   "outputs": [],
   "source": []
  }
 ],
 "metadata": {
  "kernelspec": {
   "display_name": "Python 2",
   "language": "python",
   "name": "python2"
  },
  "language_info": {
   "codemirror_mode": {
    "name": "ipython",
    "version": 2
   },
   "file_extension": ".py",
   "mimetype": "text/x-python",
   "name": "python",
   "nbconvert_exporter": "python",
   "pygments_lexer": "ipython2",
   "version": "2.7.16"
  }
 },
 "nbformat": 4,
 "nbformat_minor": 2
}
