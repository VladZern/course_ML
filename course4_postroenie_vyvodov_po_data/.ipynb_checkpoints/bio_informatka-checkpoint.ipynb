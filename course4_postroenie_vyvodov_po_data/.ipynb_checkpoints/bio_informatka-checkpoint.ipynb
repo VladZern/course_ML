{
 "cells": [
  {
   "cell_type": "code",
   "execution_count": 1,
   "metadata": {},
   "outputs": [],
   "source": [
    "import pandas as pd\n",
    "import numpy as np"
   ]
  },
  {
   "cell_type": "code",
   "execution_count": 2,
   "metadata": {},
   "outputs": [
    {
     "data": {
      "text/html": [
       "<div>\n",
       "<style scoped>\n",
       "    .dataframe tbody tr th:only-of-type {\n",
       "        vertical-align: middle;\n",
       "    }\n",
       "\n",
       "    .dataframe tbody tr th {\n",
       "        vertical-align: top;\n",
       "    }\n",
       "\n",
       "    .dataframe thead th {\n",
       "        text-align: right;\n",
       "    }\n",
       "</style>\n",
       "<table border=\"1\" class=\"dataframe\">\n",
       "  <thead>\n",
       "    <tr style=\"text-align: right;\">\n",
       "      <th></th>\n",
       "      <th>Patient_id</th>\n",
       "      <th>Diagnosis</th>\n",
       "      <th>LOC643837</th>\n",
       "      <th>LOC100130417</th>\n",
       "      <th>SAMD11</th>\n",
       "      <th>NOC2L</th>\n",
       "      <th>KLHL17</th>\n",
       "      <th>PLEKHN1</th>\n",
       "      <th>C1orf170</th>\n",
       "      <th>HES4</th>\n",
       "      <th>...</th>\n",
       "      <th>CLIC2</th>\n",
       "      <th>RPS4Y1</th>\n",
       "      <th>ZFY</th>\n",
       "      <th>PRKY</th>\n",
       "      <th>USP9Y</th>\n",
       "      <th>DDX3Y</th>\n",
       "      <th>CD24</th>\n",
       "      <th>CYorf15B</th>\n",
       "      <th>KDM5D</th>\n",
       "      <th>EIF1AY</th>\n",
       "    </tr>\n",
       "  </thead>\n",
       "  <tbody>\n",
       "    <tr>\n",
       "      <th>0</th>\n",
       "      <td>STT5425_Breast_001_normal</td>\n",
       "      <td>normal</td>\n",
       "      <td>1.257614</td>\n",
       "      <td>2.408148</td>\n",
       "      <td>13.368622</td>\n",
       "      <td>9.494779</td>\n",
       "      <td>20.880435</td>\n",
       "      <td>12.722017</td>\n",
       "      <td>9.494779</td>\n",
       "      <td>54.349694</td>\n",
       "      <td>...</td>\n",
       "      <td>4.761250</td>\n",
       "      <td>1.257614</td>\n",
       "      <td>1.257614</td>\n",
       "      <td>1.257614</td>\n",
       "      <td>1.257614</td>\n",
       "      <td>1.257614</td>\n",
       "      <td>23.268694</td>\n",
       "      <td>1.257614</td>\n",
       "      <td>1.257614</td>\n",
       "      <td>1.257614</td>\n",
       "    </tr>\n",
       "    <tr>\n",
       "      <th>1</th>\n",
       "      <td>STT5427_Breast_023_normal</td>\n",
       "      <td>normal</td>\n",
       "      <td>4.567931</td>\n",
       "      <td>16.602734</td>\n",
       "      <td>42.477752</td>\n",
       "      <td>25.562376</td>\n",
       "      <td>23.221137</td>\n",
       "      <td>11.622386</td>\n",
       "      <td>14.330573</td>\n",
       "      <td>72.445474</td>\n",
       "      <td>...</td>\n",
       "      <td>6.871902</td>\n",
       "      <td>1.815112</td>\n",
       "      <td>1.815112</td>\n",
       "      <td>1.815112</td>\n",
       "      <td>1.815112</td>\n",
       "      <td>1.815112</td>\n",
       "      <td>10.427023</td>\n",
       "      <td>1.815112</td>\n",
       "      <td>1.815112</td>\n",
       "      <td>1.815112</td>\n",
       "    </tr>\n",
       "    <tr>\n",
       "      <th>2</th>\n",
       "      <td>STT5430_Breast_002_normal</td>\n",
       "      <td>normal</td>\n",
       "      <td>2.077597</td>\n",
       "      <td>3.978294</td>\n",
       "      <td>12.863214</td>\n",
       "      <td>13.728915</td>\n",
       "      <td>14.543176</td>\n",
       "      <td>14.141907</td>\n",
       "      <td>6.232790</td>\n",
       "      <td>57.011005</td>\n",
       "      <td>...</td>\n",
       "      <td>7.096343</td>\n",
       "      <td>2.077597</td>\n",
       "      <td>2.077597</td>\n",
       "      <td>2.077597</td>\n",
       "      <td>2.077597</td>\n",
       "      <td>2.077597</td>\n",
       "      <td>22.344226</td>\n",
       "      <td>2.077597</td>\n",
       "      <td>2.077597</td>\n",
       "      <td>2.077597</td>\n",
       "    </tr>\n",
       "    <tr>\n",
       "      <th>3</th>\n",
       "      <td>STT5439_Breast_003_normal</td>\n",
       "      <td>normal</td>\n",
       "      <td>2.066576</td>\n",
       "      <td>8.520713</td>\n",
       "      <td>14.466035</td>\n",
       "      <td>7.823932</td>\n",
       "      <td>8.520713</td>\n",
       "      <td>2.066576</td>\n",
       "      <td>10.870009</td>\n",
       "      <td>53.292034</td>\n",
       "      <td>...</td>\n",
       "      <td>5.200770</td>\n",
       "      <td>2.066576</td>\n",
       "      <td>2.066576</td>\n",
       "      <td>2.066576</td>\n",
       "      <td>2.066576</td>\n",
       "      <td>2.066576</td>\n",
       "      <td>49.295538</td>\n",
       "      <td>2.066576</td>\n",
       "      <td>2.066576</td>\n",
       "      <td>2.066576</td>\n",
       "    </tr>\n",
       "    <tr>\n",
       "      <th>4</th>\n",
       "      <td>STT5441_Breast_004_normal</td>\n",
       "      <td>normal</td>\n",
       "      <td>2.613616</td>\n",
       "      <td>3.434965</td>\n",
       "      <td>12.682222</td>\n",
       "      <td>10.543189</td>\n",
       "      <td>26.688686</td>\n",
       "      <td>12.484822</td>\n",
       "      <td>1.364917</td>\n",
       "      <td>67.140393</td>\n",
       "      <td>...</td>\n",
       "      <td>11.227770</td>\n",
       "      <td>1.364917</td>\n",
       "      <td>1.364917</td>\n",
       "      <td>1.364917</td>\n",
       "      <td>1.364917</td>\n",
       "      <td>1.364917</td>\n",
       "      <td>23.627911</td>\n",
       "      <td>1.364917</td>\n",
       "      <td>1.364917</td>\n",
       "      <td>1.364917</td>\n",
       "    </tr>\n",
       "  </tbody>\n",
       "</table>\n",
       "<p>5 rows × 15750 columns</p>\n",
       "</div>"
      ],
      "text/plain": [
       "                  Patient_id Diagnosis  LOC643837  LOC100130417     SAMD11  \\\n",
       "0  STT5425_Breast_001_normal    normal   1.257614      2.408148  13.368622   \n",
       "1  STT5427_Breast_023_normal    normal   4.567931     16.602734  42.477752   \n",
       "2  STT5430_Breast_002_normal    normal   2.077597      3.978294  12.863214   \n",
       "3  STT5439_Breast_003_normal    normal   2.066576      8.520713  14.466035   \n",
       "4  STT5441_Breast_004_normal    normal   2.613616      3.434965  12.682222   \n",
       "\n",
       "       NOC2L     KLHL17    PLEKHN1   C1orf170       HES4  ...      CLIC2  \\\n",
       "0   9.494779  20.880435  12.722017   9.494779  54.349694  ...   4.761250   \n",
       "1  25.562376  23.221137  11.622386  14.330573  72.445474  ...   6.871902   \n",
       "2  13.728915  14.543176  14.141907   6.232790  57.011005  ...   7.096343   \n",
       "3   7.823932   8.520713   2.066576  10.870009  53.292034  ...   5.200770   \n",
       "4  10.543189  26.688686  12.484822   1.364917  67.140393  ...  11.227770   \n",
       "\n",
       "     RPS4Y1       ZFY      PRKY     USP9Y     DDX3Y       CD24  CYorf15B  \\\n",
       "0  1.257614  1.257614  1.257614  1.257614  1.257614  23.268694  1.257614   \n",
       "1  1.815112  1.815112  1.815112  1.815112  1.815112  10.427023  1.815112   \n",
       "2  2.077597  2.077597  2.077597  2.077597  2.077597  22.344226  2.077597   \n",
       "3  2.066576  2.066576  2.066576  2.066576  2.066576  49.295538  2.066576   \n",
       "4  1.364917  1.364917  1.364917  1.364917  1.364917  23.627911  1.364917   \n",
       "\n",
       "      KDM5D    EIF1AY  \n",
       "0  1.257614  1.257614  \n",
       "1  1.815112  1.815112  \n",
       "2  2.077597  2.077597  \n",
       "3  2.066576  2.066576  \n",
       "4  1.364917  1.364917  \n",
       "\n",
       "[5 rows x 15750 columns]"
      ]
     },
     "execution_count": 2,
     "metadata": {},
     "output_type": "execute_result"
    }
   ],
   "source": [
    "data = pd.read_csv('gene_high_throughput_sequencing.csv')\n",
    "data.head()"
   ]
  },
  {
   "cell_type": "code",
   "execution_count": 3,
   "metadata": {},
   "outputs": [
    {
     "data": {
      "text/plain": [
       "array(['normal', 'early neoplasia', 'cancer'], dtype=object)"
      ]
     },
     "execution_count": 3,
     "metadata": {},
     "output_type": "execute_result"
    }
   ],
   "source": [
    "data['Diagnosis'].unique()"
   ]
  },
  {
   "cell_type": "code",
   "execution_count": 4,
   "metadata": {},
   "outputs": [
    {
     "data": {
      "text/plain": [
       "early neoplasia    25\n",
       "normal             24\n",
       "cancer             23\n",
       "Name: Diagnosis, dtype: int64"
      ]
     },
     "execution_count": 4,
     "metadata": {},
     "output_type": "execute_result"
    }
   ],
   "source": [
    "data['Diagnosis'].value_counts()"
   ]
  },
  {
   "cell_type": "code",
   "execution_count": 5,
   "metadata": {},
   "outputs": [],
   "source": [
    "normal_dt = data[data['Diagnosis']=='normal']\n",
    "en_dt = data[data['Diagnosis']=='early neoplasia']\n",
    "cancer_dt = data[data['Diagnosis']=='cancer']"
   ]
  },
  {
   "cell_type": "code",
   "execution_count": 6,
   "metadata": {},
   "outputs": [],
   "source": [
    "normal_data = normal_dt.drop(['Patient_id','Diagnosis'],axis=1)\n",
    "en_data = en_dt.drop(['Patient_id','Diagnosis'],axis=1)\n",
    "cancer_data = cancer_dt.drop(['Patient_id','Diagnosis'],axis=1)"
   ]
  },
  {
   "cell_type": "code",
   "execution_count": 7,
   "metadata": {},
   "outputs": [
    {
     "data": {
      "text/plain": [
       "Index([u'LOC643837', u'LOC100130417', u'SAMD11', u'NOC2L', u'KLHL17',\n",
       "       u'PLEKHN1', u'C1orf170', u'HES4', u'ISG15', u'AGRN',\n",
       "       ...\n",
       "       u'CLIC2', u'RPS4Y1', u'ZFY', u'PRKY', u'USP9Y', u'DDX3Y', u'CD24',\n",
       "       u'CYorf15B', u'KDM5D', u'EIF1AY'],\n",
       "      dtype='object', length=15748)"
      ]
     },
     "execution_count": 7,
     "metadata": {},
     "output_type": "execute_result"
    }
   ],
   "source": [
    "normal_data.columns"
   ]
  },
  {
   "cell_type": "markdown",
   "metadata": {},
   "source": [
    "# Задание 1. Найти гены, которые отличаются в разных группах\n",
    "\n",
    "### H0 - средняя эксперессивность одинаковая\n",
    "### H1 - разная\n",
    "### Проверка через критерий стьюдента для независимых измерений\n",
    "\n",
    "В качестве ответа в этой части задания необходимо указать количество статистически значимых отличий, которые вы нашли с помощью t-критерия Стьюдента, то есть число генов, у которых p-value этого теста оказался меньше, чем уровень значимости. "
   ]
  },
  {
   "cell_type": "code",
   "execution_count": 8,
   "metadata": {},
   "outputs": [
    {
     "name": "stdout",
     "output_type": "stream",
     "text": [
      "count_p_more_1= 14173\n",
      "count_p_less_1= 1575\n",
      "count_p_more_2= 12258\n",
      "count_p_less_2= 3490\n",
      "count_p_more_all= 26431\n",
      "count_p_less_all= 5065\n"
     ]
    }
   ],
   "source": [
    "import scipy\n",
    "from statsmodels.stats.weightstats import *\n",
    "count_p_more_1 = 0\n",
    "count_p_less_1 = 0\n",
    "count_p_more_2 = 0\n",
    "count_p_less_2 = 0\n",
    "for col in normal_data.columns:\n",
    "    stat, p = scipy.stats.ttest_ind(normal_data[col], en_data[col], equal_var = False) #значение статистики и уровень значимости\n",
    "    if p>0.05:\n",
    "        count_p_more_1 += 1\n",
    "    else:\n",
    "        count_p_less_1 += 1\n",
    "print 'count_p_more_1=', count_p_more_1\n",
    "print 'count_p_less_1=', count_p_less_1\n",
    "\n",
    "for col in en_data.columns:\n",
    "    stat, p = scipy.stats.ttest_ind(en_data[col], cancer_data[col], equal_var = False) #значение статистики и уровень значимости\n",
    "    if p>0.05:\n",
    "        count_p_more_2 += 1\n",
    "    else:\n",
    "        count_p_less_2 += 1\n",
    "print 'count_p_more_2=', count_p_more_2\n",
    "print 'count_p_less_2=', count_p_less_2\n",
    "print 'count_p_more_all=', count_p_more_1 + count_p_more_2\n",
    "print 'count_p_less_all=', count_p_less_1 + count_p_less_2"
   ]
  },
  {
   "cell_type": "markdown",
   "metadata": {},
   "source": [
    "### Часть2. С учетом поправок Холма на множественную проверку гипотез\n",
    "\n",
    "В этой части задания нужно будет применить поправку Холма для получившихся двух наборов достигаемых уровней значимости из предыдущей части. Обратите внимание, что поскольку вы будете делать поправку для каждого из двух наборов p-value отдельно, то проблема, связанная с множественной проверкой останется.\n",
    "\n",
    "Для того, чтобы ее устранить, достаточно воспользоваться поправкой Бонферрони, то есть использовать уровень значимости 0.05 / 2 вместо 0.05 для дальнейшего уточнения значений p-value c помощью метода Холма.\n",
    "\n",
    "В качестве ответа к этому заданию требуется ввести количество значимых отличий в каждой группе после того, как произведена коррекция Холма-Бонферрони. Причем это число нужно ввести с учетом практической значимости: посчитайте для каждого значимого изменения fold change и выпишите в ответ число таких значимых изменений, абсолютное значение fold change которых больше, чем 1.51.51.5.\n"
   ]
  },
  {
   "cell_type": "code",
   "execution_count": 9,
   "metadata": {},
   "outputs": [],
   "source": [
    "p_list_1 = list()\n",
    "p_list_2 = list()\n",
    "for col in normal_data.columns:\n",
    "    stat1, p1 = scipy.stats.ttest_ind(normal_data[col], en_data[col], equal_var = False) #значение статистики и уровень значимости\n",
    "    p_list_1.append(p1)\n",
    "    stat2, p2 = scipy.stats.ttest_ind(en_data[col], cancer_data[col], equal_var = False) #значение статистики и уровень значимости\n",
    "    p_list_2.append(p2)"
   ]
  },
  {
   "cell_type": "code",
   "execution_count": 10,
   "metadata": {},
   "outputs": [],
   "source": [
    "from statsmodels.sandbox.stats.multicomp import multipletests \n",
    "reject1, p_corrected_1, a1, a2 = multipletests(p_list_1, alpha = 0.05/2, method = 'holm') \n",
    "reject2, p_corrected_2, a1, a2 = multipletests(p_list_2, alpha = 0.05/2, method = 'holm') "
   ]
  },
  {
   "cell_type": "code",
   "execution_count": 39,
   "metadata": {},
   "outputs": [
    {
     "name": "stdout",
     "output_type": "stream",
     "text": [
      "count_p_more_1= 15746\n",
      "count_p_less_1= 2\n",
      "count_p_more_2= 15669\n",
      "count_p_less_2= 79\n"
     ]
    }
   ],
   "source": [
    "count_p_more_1 = 0\n",
    "count_p_less_1 = 0\n",
    "count_p_more_2 = 0\n",
    "count_p_less_2 = 0\n",
    "f1_list = list()\n",
    "f2_list = list()\n",
    "for i in range(0,len(p_corrected_1)):\n",
    "    if p_corrected_1[i]<0.025:\n",
    "        count_p_less_1 += 1\n",
    "        C = normal_data[normal_data.columns[i]].mean()\n",
    "        T = en_data[en_data.columns[i]].mean()\n",
    "        if T > C:\n",
    "            F_1 = T/float(C)\n",
    "        else:\n",
    "            F_1 = -C/float(T)\n",
    "        f1_list.append(F_1)\n",
    "    else:\n",
    "        count_p_more_1 += 1\n",
    "for i in range(0,len(p_corrected_2)):\n",
    "    if p_corrected_2[i]<0.025:\n",
    "        count_p_less_2 += 1\n",
    "        C = en_data[en_data.columns[i]].mean()\n",
    "        T = cancer_data[cancer_data.columns[i]].mean()\n",
    "        if T > C:\n",
    "            F_2 = T/float(C)\n",
    "        else:\n",
    "            F_2 = -C/float(T)\n",
    "        f2_list.append(F_2)\n",
    "    else:\n",
    "        count_p_more_2 += 1\n",
    "print 'count_p_more_1=', count_p_more_1\n",
    "print 'count_p_less_1=', count_p_less_1\n",
    "print 'count_p_more_2=', count_p_more_2\n",
    "print 'count_p_less_2=', count_p_less_2"
   ]
  },
  {
   "cell_type": "code",
   "execution_count": 40,
   "metadata": {},
   "outputs": [
    {
     "name": "stdout",
     "output_type": "stream",
     "text": [
      "f1: [1.509785482044398, 1.9748676656368698]\n",
      "f2: [1.8438601120360605, -2.383209744151477, -1.9973807408171325, -1.6934276114377385, -1.795639684357122, -2.119522587228923, -1.6300230825502287, -2.4492326684105192, -3.033566155995153, -2.79378540308933, -2.125933494769897, -1.9377959456382408, -1.6743935503606164, -2.004977539524381, -4.364839773317585, -2.3234996260334766, -1.7472427023789787, -2.045648683740802, -1.6475239475535153, -2.736973729291268, -2.1404583552879264, -1.548831064278174, -2.5764990178903804, -1.8542308025419714, -2.905515073516559, 2.2887923692234415, -2.6759324726496403, -2.2089634178013275, -2.0024024200136856, -2.153608320161442, -1.8164750122406366, -1.71870946563695, -2.1201772631710583, -1.9963596951256357, -2.0933818653389027, -2.8178876086244475, -2.246411485223897, -2.3804962593091274, -1.8175706684521358, -2.784621568610554, -2.442654044605397, -1.8195596254495814, -2.279085957408533, -2.675435193552647, -3.3521459750889795, -1.8933656951331517, -1.9900801791006655, -2.082379550991991, 1.6565407681715154, -1.805254456622077, -2.171778466980306, -1.9885143749806864, -1.6506026258685882, -2.757087965510439, -2.3810911417758396, -2.8186377183001086, -2.7913003372091354, -1.8368315130814015, -2.0357540305033583, -2.0113962720688945, -1.7624813203014817, -2.5630730282947063, -1.63641323050855, 2.388185447405712, -1.9955948009710038, 1.3417739229952146, -2.1682175747967087, -2.5338381833192067, -1.59816782635571, -2.159037117711981, -2.5256309375822052, 1.3049682053537972, -2.078904865176242, -4.308086064484939, -2.8689401599465056, -3.224494705095115, -2.559150481063222, -1.8704337540693545, -1.7585461467243357]\n"
     ]
    }
   ],
   "source": [
    "print 'f1:',f1_list\n",
    "print 'f2:',f2_list"
   ]
  },
  {
   "cell_type": "code",
   "execution_count": 41,
   "metadata": {},
   "outputs": [],
   "source": [
    "f1_list.extend(f2_list)"
   ]
  },
  {
   "cell_type": "code",
   "execution_count": 42,
   "metadata": {},
   "outputs": [
    {
     "name": "stdout",
     "output_type": "stream",
     "text": [
      "79\n"
     ]
    }
   ],
   "source": [
    "n_count = 0\n",
    "for f in f1_list:\n",
    "    if abs(f)>1.5:\n",
    "        n_count +=1\n",
    "print n_count"
   ]
  },
  {
   "cell_type": "markdown",
   "metadata": {},
   "source": [
    "# Часть 3: поправка методом Бенджамини-Хохберга\n",
    "\n",
    "Данная часть задания аналогична второй части за исключением того, что нужно будет использовать метод Бенджамини-Хохберга.\n",
    "\n",
    "Обратите внимание, что методы коррекции, которые контролируют FDR, допускает больше ошибок первого рода и имеют большую мощность, чем методы, контролирующие FWER. Большая мощность означает, что эти методы будут совершать меньше ошибок второго рода (то есть будут лучше улавливать отклонения от H0, когда они есть, и будут чаще отклонять H0, когда отличий нет).\n",
    "\n",
    "В качестве ответа к этому заданию требуется ввести количество значимых отличий в каждой группе после того, как произведена коррекция Бенджамини-Хохберга, причем так же, как и во второй части, считать только такие отличия, у которых abs(fold change) > 1.5. \n"
   ]
  },
  {
   "cell_type": "code",
   "execution_count": 43,
   "metadata": {},
   "outputs": [],
   "source": [
    "from statsmodels.sandbox.stats.multicomp import multipletests \n",
    "reject1, p_corrected_1, a1, a2 = multipletests(p_list_1, alpha = 0.05/2, method = 'fdr_bh') \n",
    "reject2, p_corrected_2, a1, a2 = multipletests(p_list_2, alpha = 0.05/2, method = 'fdr_bh')"
   ]
  },
  {
   "cell_type": "code",
   "execution_count": 44,
   "metadata": {},
   "outputs": [
    {
     "name": "stdout",
     "output_type": "stream",
     "text": [
      "count_p_more_1= 15744\n",
      "count_p_less_1= 4\n",
      "count_p_more_2= 14916\n",
      "count_p_less_2= 832\n"
     ]
    }
   ],
   "source": [
    "count_p_more_1 = 0\n",
    "count_p_less_1 = 0\n",
    "count_p_more_2 = 0\n",
    "count_p_less_2 = 0\n",
    "f1_list = list()\n",
    "f2_list = list()\n",
    "for i in range(0,len(p_corrected_1)):\n",
    "    if p_corrected_1[i]<0.025:\n",
    "        count_p_less_1 += 1\n",
    "        C = normal_data[normal_data.columns[i]].mean()\n",
    "        T = en_data[en_data.columns[i]].mean()\n",
    "        if T > C:\n",
    "            F_1 = T/float(C)\n",
    "        else:\n",
    "            F_1 = -C/float(T)\n",
    "        f1_list.append(F_1)\n",
    "    else:\n",
    "        count_p_more_1 += 1\n",
    "for i in range(0,len(p_corrected_2)):\n",
    "    if p_corrected_2[i]<0.025:\n",
    "        count_p_less_2 += 1\n",
    "        C = en_data[en_data.columns[i]].mean()\n",
    "        T = cancer_data[cancer_data.columns[i]].mean()\n",
    "        if T > C:\n",
    "            F_2 = T/float(C)\n",
    "        else:\n",
    "            F_2 = -C/float(T)\n",
    "        f2_list.append(F_2)\n",
    "    else:\n",
    "        count_p_more_2 += 1\n",
    "print 'count_p_more_1=', count_p_more_1\n",
    "print 'count_p_less_1=', count_p_less_1\n",
    "print 'count_p_more_2=', count_p_more_2\n",
    "print 'count_p_less_2=', count_p_less_2"
   ]
  },
  {
   "cell_type": "code",
   "execution_count": 45,
   "metadata": {},
   "outputs": [],
   "source": [
    "f1_list.extend(f2_list)"
   ]
  },
  {
   "cell_type": "code",
   "execution_count": 46,
   "metadata": {},
   "outputs": [
    {
     "name": "stdout",
     "output_type": "stream",
     "text": [
      "528\n"
     ]
    }
   ],
   "source": [
    "n_count = 0\n",
    "for f in f1_list:\n",
    "    if abs(f)>1.5:\n",
    "        n_count +=1\n",
    "print n_count"
   ]
  }
 ],
 "metadata": {
  "kernelspec": {
   "display_name": "Python 2",
   "language": "python",
   "name": "python2"
  },
  "language_info": {
   "codemirror_mode": {
    "name": "ipython",
    "version": 2
   },
   "file_extension": ".py",
   "mimetype": "text/x-python",
   "name": "python",
   "nbconvert_exporter": "python",
   "pygments_lexer": "ipython2",
   "version": "2.7.16"
  }
 },
 "nbformat": 4,
 "nbformat_minor": 2
}
