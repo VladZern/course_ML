{
 "cells": [
  {
   "cell_type": "code",
   "execution_count": 16,
   "metadata": {},
   "outputs": [
    {
     "name": "stdout",
     "output_type": "stream",
     "text": [
      "normal_interval [0.000000, 0.058805] with width 0.058805\n"
     ]
    }
   ],
   "source": [
    "from statsmodels.stats.proportion import proportion_confint\n",
    "normal_interval = proportion_confint(1, 50, alpha=0.05, method = 'normal')\n",
    "print 'normal_interval [%f, %f] with width %f' % (normal_interval[0],\n",
    "                                                  normal_interval[1], \n",
    "                                                  normal_interval[1] - normal_interval[0])"
   ]
  },
  {
   "cell_type": "code",
   "execution_count": 3,
   "metadata": {},
   "outputs": [
    {
     "name": "stdout",
     "output_type": "stream",
     "text": [
      "normal_interval [0.003539, 0.104954] with width 0.101415\n"
     ]
    }
   ],
   "source": [
    "from statsmodels.stats.proportion import proportion_confint\n",
    "normal_interval = proportion_confint(1, 50, alpha=0.05, method = 'wilson')\n",
    "print 'normal_interval [%f, %f] with width %f' % (normal_interval[0],\n",
    "                                                  normal_interval[1], \n",
    "                                                  normal_interval[1] - normal_interval[0])"
   ]
  },
  {
   "cell_type": "code",
   "execution_count": 8,
   "metadata": {},
   "outputs": [
    {
     "data": {
      "text/plain": [
       "753"
      ]
     },
     "execution_count": 8,
     "metadata": {},
     "output_type": "execute_result"
    }
   ],
   "source": [
    "from statsmodels.stats.proportion import samplesize_confint_proportion\n",
    "import numpy as np\n",
    "n_samples = int(np.ceil(samplesize_confint_proportion(proportion=0.02, half_length=0.01, method= 'normal')))\n",
    "n_samples"
   ]
  },
  {
   "cell_type": "code",
   "execution_count": 9,
   "metadata": {},
   "outputs": [
    {
     "name": "stdout",
     "output_type": "stream",
     "text": [
      "normal_interval [0.009940, 0.029900] with width 0.019960\n"
     ]
    }
   ],
   "source": [
    "normal_interval = proportion_confint(15, 753, method = 'normal')\n",
    "print 'normal_interval [%f, %f] with width %f' % (normal_interval[0],\n",
    "                                                  normal_interval[1], \n",
    "                                                  normal_interval[1] - normal_interval[0])"
   ]
  },
  {
   "cell_type": "code",
   "execution_count": 7,
   "metadata": {},
   "outputs": [
    {
     "data": {
      "text/html": [
       "        <script type=\"text/javascript\">\n",
       "        window.PlotlyConfig = {MathJaxConfig: 'local'};\n",
       "        if (window.MathJax) {MathJax.Hub.Config({SVG: {font: \"STIX-Web\"}});}\n",
       "        if (typeof require !== 'undefined') {\n",
       "        require.undef(\"plotly\");\n",
       "        requirejs.config({\n",
       "            paths: {\n",
       "                'plotly': ['https://cdn.plot.ly/plotly-latest.min']\n",
       "            }\n",
       "        });\n",
       "        require(['plotly'], function(Plotly) {\n",
       "            window._Plotly = Plotly;\n",
       "        });\n",
       "        }\n",
       "        </script>\n",
       "        "
      ]
     },
     "metadata": {},
     "output_type": "display_data"
    }
   ],
   "source": [
    "import pandas as pd\n",
    "import numpy as np\n",
    "from plotly.offline import download_plotlyjs, init_notebook_mode, plot, iplot\n",
    "import plotly.graph_objs as go\n",
    "\n",
    "init_notebook_mode(connected=True)"
   ]
  },
  {
   "cell_type": "code",
   "execution_count": 10,
   "metadata": {},
   "outputs": [],
   "source": [
    "x = np.linspace(0,1,100)\n",
    "n_samples = list()\n",
    "for p in x:\n",
    "    n_samples.append(int(np.ceil(samplesize_confint_proportion(proportion=p, half_length=0.01, method= 'normal'))))"
   ]
  },
  {
   "cell_type": "code",
   "execution_count": 11,
   "metadata": {},
   "outputs": [
    {
     "data": {
      "application/vnd.plotly.v1+json": {
       "config": {
        "plotlyServerURL": "https://plot.ly"
       },
       "data": [
        {
         "mode": "lines",
         "name": "lines",
         "type": "scatter",
         "x": [
          0,
          0.010101010101010102,
          0.020202020202020204,
          0.030303030303030304,
          0.04040404040404041,
          0.05050505050505051,
          0.06060606060606061,
          0.07070707070707072,
          0.08080808080808081,
          0.09090909090909091,
          0.10101010101010102,
          0.11111111111111112,
          0.12121212121212122,
          0.13131313131313133,
          0.14141414141414144,
          0.15151515151515152,
          0.16161616161616163,
          0.17171717171717174,
          0.18181818181818182,
          0.19191919191919193,
          0.20202020202020204,
          0.21212121212121213,
          0.22222222222222224,
          0.23232323232323235,
          0.24242424242424243,
          0.25252525252525254,
          0.26262626262626265,
          0.27272727272727276,
          0.2828282828282829,
          0.29292929292929293,
          0.30303030303030304,
          0.31313131313131315,
          0.32323232323232326,
          0.33333333333333337,
          0.3434343434343435,
          0.3535353535353536,
          0.36363636363636365,
          0.37373737373737376,
          0.38383838383838387,
          0.393939393939394,
          0.4040404040404041,
          0.4141414141414142,
          0.42424242424242425,
          0.43434343434343436,
          0.4444444444444445,
          0.4545454545454546,
          0.4646464646464647,
          0.4747474747474748,
          0.48484848484848486,
          0.494949494949495,
          0.5050505050505051,
          0.5151515151515152,
          0.5252525252525253,
          0.5353535353535354,
          0.5454545454545455,
          0.5555555555555556,
          0.5656565656565657,
          0.5757575757575758,
          0.5858585858585859,
          0.595959595959596,
          0.6060606060606061,
          0.6161616161616162,
          0.6262626262626263,
          0.6363636363636365,
          0.6464646464646465,
          0.6565656565656566,
          0.6666666666666667,
          0.6767676767676768,
          0.686868686868687,
          0.696969696969697,
          0.7070707070707072,
          0.7171717171717172,
          0.7272727272727273,
          0.7373737373737375,
          0.7474747474747475,
          0.7575757575757577,
          0.7676767676767677,
          0.7777777777777778,
          0.787878787878788,
          0.797979797979798,
          0.8080808080808082,
          0.8181818181818182,
          0.8282828282828284,
          0.8383838383838385,
          0.8484848484848485,
          0.8585858585858587,
          0.8686868686868687,
          0.8787878787878789,
          0.888888888888889,
          0.8989898989898991,
          0.9090909090909092,
          0.9191919191919192,
          0.9292929292929294,
          0.9393939393939394,
          0.9494949494949496,
          0.9595959595959597,
          0.9696969696969697,
          0.9797979797979799,
          0.98989898989899,
          1
         ],
         "y": [
          0,
          385,
          761,
          1129,
          1490,
          1843,
          2188,
          2525,
          2854,
          3175,
          3489,
          3795,
          4092,
          4382,
          4665,
          4939,
          5206,
          5464,
          5715,
          5958,
          6193,
          6421,
          6640,
          6852,
          7056,
          7251,
          7440,
          7620,
          7792,
          7957,
          8114,
          8263,
          8404,
          8537,
          8662,
          8780,
          8890,
          8992,
          9086,
          9172,
          9250,
          9321,
          9384,
          9439,
          9486,
          9525,
          9556,
          9580,
          9595,
          9603,
          9603,
          9595,
          9580,
          9556,
          9525,
          9486,
          9439,
          9384,
          9321,
          9250,
          9172,
          9086,
          8992,
          8890,
          8780,
          8662,
          8537,
          8404,
          8263,
          8114,
          7957,
          7792,
          7620,
          7440,
          7251,
          7056,
          6852,
          6640,
          6421,
          6193,
          5958,
          5715,
          5464,
          5206,
          4939,
          4665,
          4382,
          4092,
          3795,
          3489,
          3175,
          2854,
          2525,
          2188,
          1843,
          1490,
          1129,
          761,
          385,
          0
         ]
        }
       ],
       "layout": {
        "template": {
         "data": {
          "bar": [
           {
            "error_x": {
             "color": "#2a3f5f"
            },
            "error_y": {
             "color": "#2a3f5f"
            },
            "marker": {
             "line": {
              "color": "#E5ECF6",
              "width": 0.5
             }
            },
            "type": "bar"
           }
          ],
          "barpolar": [
           {
            "marker": {
             "line": {
              "color": "#E5ECF6",
              "width": 0.5
             }
            },
            "type": "barpolar"
           }
          ],
          "carpet": [
           {
            "aaxis": {
             "endlinecolor": "#2a3f5f",
             "gridcolor": "white",
             "linecolor": "white",
             "minorgridcolor": "white",
             "startlinecolor": "#2a3f5f"
            },
            "baxis": {
             "endlinecolor": "#2a3f5f",
             "gridcolor": "white",
             "linecolor": "white",
             "minorgridcolor": "white",
             "startlinecolor": "#2a3f5f"
            },
            "type": "carpet"
           }
          ],
          "choropleth": [
           {
            "colorbar": {
             "outlinewidth": 0,
             "ticks": ""
            },
            "type": "choropleth"
           }
          ],
          "contour": [
           {
            "colorbar": {
             "outlinewidth": 0,
             "ticks": ""
            },
            "colorscale": [
             [
              0,
              "#0d0887"
             ],
             [
              0.1111111111111111,
              "#46039f"
             ],
             [
              0.2222222222222222,
              "#7201a8"
             ],
             [
              0.3333333333333333,
              "#9c179e"
             ],
             [
              0.4444444444444444,
              "#bd3786"
             ],
             [
              0.5555555555555556,
              "#d8576b"
             ],
             [
              0.6666666666666666,
              "#ed7953"
             ],
             [
              0.7777777777777778,
              "#fb9f3a"
             ],
             [
              0.8888888888888888,
              "#fdca26"
             ],
             [
              1,
              "#f0f921"
             ]
            ],
            "type": "contour"
           }
          ],
          "contourcarpet": [
           {
            "colorbar": {
             "outlinewidth": 0,
             "ticks": ""
            },
            "type": "contourcarpet"
           }
          ],
          "heatmap": [
           {
            "colorbar": {
             "outlinewidth": 0,
             "ticks": ""
            },
            "colorscale": [
             [
              0,
              "#0d0887"
             ],
             [
              0.1111111111111111,
              "#46039f"
             ],
             [
              0.2222222222222222,
              "#7201a8"
             ],
             [
              0.3333333333333333,
              "#9c179e"
             ],
             [
              0.4444444444444444,
              "#bd3786"
             ],
             [
              0.5555555555555556,
              "#d8576b"
             ],
             [
              0.6666666666666666,
              "#ed7953"
             ],
             [
              0.7777777777777778,
              "#fb9f3a"
             ],
             [
              0.8888888888888888,
              "#fdca26"
             ],
             [
              1,
              "#f0f921"
             ]
            ],
            "type": "heatmap"
           }
          ],
          "heatmapgl": [
           {
            "colorbar": {
             "outlinewidth": 0,
             "ticks": ""
            },
            "colorscale": [
             [
              0,
              "#0d0887"
             ],
             [
              0.1111111111111111,
              "#46039f"
             ],
             [
              0.2222222222222222,
              "#7201a8"
             ],
             [
              0.3333333333333333,
              "#9c179e"
             ],
             [
              0.4444444444444444,
              "#bd3786"
             ],
             [
              0.5555555555555556,
              "#d8576b"
             ],
             [
              0.6666666666666666,
              "#ed7953"
             ],
             [
              0.7777777777777778,
              "#fb9f3a"
             ],
             [
              0.8888888888888888,
              "#fdca26"
             ],
             [
              1,
              "#f0f921"
             ]
            ],
            "type": "heatmapgl"
           }
          ],
          "histogram": [
           {
            "marker": {
             "colorbar": {
              "outlinewidth": 0,
              "ticks": ""
             }
            },
            "type": "histogram"
           }
          ],
          "histogram2d": [
           {
            "colorbar": {
             "outlinewidth": 0,
             "ticks": ""
            },
            "colorscale": [
             [
              0,
              "#0d0887"
             ],
             [
              0.1111111111111111,
              "#46039f"
             ],
             [
              0.2222222222222222,
              "#7201a8"
             ],
             [
              0.3333333333333333,
              "#9c179e"
             ],
             [
              0.4444444444444444,
              "#bd3786"
             ],
             [
              0.5555555555555556,
              "#d8576b"
             ],
             [
              0.6666666666666666,
              "#ed7953"
             ],
             [
              0.7777777777777778,
              "#fb9f3a"
             ],
             [
              0.8888888888888888,
              "#fdca26"
             ],
             [
              1,
              "#f0f921"
             ]
            ],
            "type": "histogram2d"
           }
          ],
          "histogram2dcontour": [
           {
            "colorbar": {
             "outlinewidth": 0,
             "ticks": ""
            },
            "colorscale": [
             [
              0,
              "#0d0887"
             ],
             [
              0.1111111111111111,
              "#46039f"
             ],
             [
              0.2222222222222222,
              "#7201a8"
             ],
             [
              0.3333333333333333,
              "#9c179e"
             ],
             [
              0.4444444444444444,
              "#bd3786"
             ],
             [
              0.5555555555555556,
              "#d8576b"
             ],
             [
              0.6666666666666666,
              "#ed7953"
             ],
             [
              0.7777777777777778,
              "#fb9f3a"
             ],
             [
              0.8888888888888888,
              "#fdca26"
             ],
             [
              1,
              "#f0f921"
             ]
            ],
            "type": "histogram2dcontour"
           }
          ],
          "mesh3d": [
           {
            "colorbar": {
             "outlinewidth": 0,
             "ticks": ""
            },
            "type": "mesh3d"
           }
          ],
          "parcoords": [
           {
            "line": {
             "colorbar": {
              "outlinewidth": 0,
              "ticks": ""
             }
            },
            "type": "parcoords"
           }
          ],
          "pie": [
           {
            "automargin": true,
            "type": "pie"
           }
          ],
          "scatter": [
           {
            "marker": {
             "colorbar": {
              "outlinewidth": 0,
              "ticks": ""
             }
            },
            "type": "scatter"
           }
          ],
          "scatter3d": [
           {
            "line": {
             "colorbar": {
              "outlinewidth": 0,
              "ticks": ""
             }
            },
            "marker": {
             "colorbar": {
              "outlinewidth": 0,
              "ticks": ""
             }
            },
            "type": "scatter3d"
           }
          ],
          "scattercarpet": [
           {
            "marker": {
             "colorbar": {
              "outlinewidth": 0,
              "ticks": ""
             }
            },
            "type": "scattercarpet"
           }
          ],
          "scattergeo": [
           {
            "marker": {
             "colorbar": {
              "outlinewidth": 0,
              "ticks": ""
             }
            },
            "type": "scattergeo"
           }
          ],
          "scattergl": [
           {
            "marker": {
             "colorbar": {
              "outlinewidth": 0,
              "ticks": ""
             }
            },
            "type": "scattergl"
           }
          ],
          "scattermapbox": [
           {
            "marker": {
             "colorbar": {
              "outlinewidth": 0,
              "ticks": ""
             }
            },
            "type": "scattermapbox"
           }
          ],
          "scatterpolar": [
           {
            "marker": {
             "colorbar": {
              "outlinewidth": 0,
              "ticks": ""
             }
            },
            "type": "scatterpolar"
           }
          ],
          "scatterpolargl": [
           {
            "marker": {
             "colorbar": {
              "outlinewidth": 0,
              "ticks": ""
             }
            },
            "type": "scatterpolargl"
           }
          ],
          "scatterternary": [
           {
            "marker": {
             "colorbar": {
              "outlinewidth": 0,
              "ticks": ""
             }
            },
            "type": "scatterternary"
           }
          ],
          "surface": [
           {
            "colorbar": {
             "outlinewidth": 0,
             "ticks": ""
            },
            "colorscale": [
             [
              0,
              "#0d0887"
             ],
             [
              0.1111111111111111,
              "#46039f"
             ],
             [
              0.2222222222222222,
              "#7201a8"
             ],
             [
              0.3333333333333333,
              "#9c179e"
             ],
             [
              0.4444444444444444,
              "#bd3786"
             ],
             [
              0.5555555555555556,
              "#d8576b"
             ],
             [
              0.6666666666666666,
              "#ed7953"
             ],
             [
              0.7777777777777778,
              "#fb9f3a"
             ],
             [
              0.8888888888888888,
              "#fdca26"
             ],
             [
              1,
              "#f0f921"
             ]
            ],
            "type": "surface"
           }
          ],
          "table": [
           {
            "cells": {
             "fill": {
              "color": "#EBF0F8"
             },
             "line": {
              "color": "white"
             }
            },
            "header": {
             "fill": {
              "color": "#C8D4E3"
             },
             "line": {
              "color": "white"
             }
            },
            "type": "table"
           }
          ]
         },
         "layout": {
          "annotationdefaults": {
           "arrowcolor": "#2a3f5f",
           "arrowhead": 0,
           "arrowwidth": 1
          },
          "coloraxis": {
           "colorbar": {
            "outlinewidth": 0,
            "ticks": ""
           }
          },
          "colorscale": {
           "diverging": [
            [
             0,
             "#8e0152"
            ],
            [
             0.1,
             "#c51b7d"
            ],
            [
             0.2,
             "#de77ae"
            ],
            [
             0.3,
             "#f1b6da"
            ],
            [
             0.4,
             "#fde0ef"
            ],
            [
             0.5,
             "#f7f7f7"
            ],
            [
             0.6,
             "#e6f5d0"
            ],
            [
             0.7,
             "#b8e186"
            ],
            [
             0.8,
             "#7fbc41"
            ],
            [
             0.9,
             "#4d9221"
            ],
            [
             1,
             "#276419"
            ]
           ],
           "sequential": [
            [
             0,
             "#0d0887"
            ],
            [
             0.1111111111111111,
             "#46039f"
            ],
            [
             0.2222222222222222,
             "#7201a8"
            ],
            [
             0.3333333333333333,
             "#9c179e"
            ],
            [
             0.4444444444444444,
             "#bd3786"
            ],
            [
             0.5555555555555556,
             "#d8576b"
            ],
            [
             0.6666666666666666,
             "#ed7953"
            ],
            [
             0.7777777777777778,
             "#fb9f3a"
            ],
            [
             0.8888888888888888,
             "#fdca26"
            ],
            [
             1,
             "#f0f921"
            ]
           ],
           "sequentialminus": [
            [
             0,
             "#0d0887"
            ],
            [
             0.1111111111111111,
             "#46039f"
            ],
            [
             0.2222222222222222,
             "#7201a8"
            ],
            [
             0.3333333333333333,
             "#9c179e"
            ],
            [
             0.4444444444444444,
             "#bd3786"
            ],
            [
             0.5555555555555556,
             "#d8576b"
            ],
            [
             0.6666666666666666,
             "#ed7953"
            ],
            [
             0.7777777777777778,
             "#fb9f3a"
            ],
            [
             0.8888888888888888,
             "#fdca26"
            ],
            [
             1,
             "#f0f921"
            ]
           ]
          },
          "colorway": [
           "#636efa",
           "#EF553B",
           "#00cc96",
           "#ab63fa",
           "#FFA15A",
           "#19d3f3",
           "#FF6692",
           "#B6E880",
           "#FF97FF",
           "#FECB52"
          ],
          "font": {
           "color": "#2a3f5f"
          },
          "geo": {
           "bgcolor": "white",
           "lakecolor": "white",
           "landcolor": "#E5ECF6",
           "showlakes": true,
           "showland": true,
           "subunitcolor": "white"
          },
          "hoverlabel": {
           "align": "left"
          },
          "hovermode": "closest",
          "mapbox": {
           "style": "light"
          },
          "paper_bgcolor": "white",
          "plot_bgcolor": "#E5ECF6",
          "polar": {
           "angularaxis": {
            "gridcolor": "white",
            "linecolor": "white",
            "ticks": ""
           },
           "bgcolor": "#E5ECF6",
           "radialaxis": {
            "gridcolor": "white",
            "linecolor": "white",
            "ticks": ""
           }
          },
          "scene": {
           "xaxis": {
            "backgroundcolor": "#E5ECF6",
            "gridcolor": "white",
            "gridwidth": 2,
            "linecolor": "white",
            "showbackground": true,
            "ticks": "",
            "zerolinecolor": "white"
           },
           "yaxis": {
            "backgroundcolor": "#E5ECF6",
            "gridcolor": "white",
            "gridwidth": 2,
            "linecolor": "white",
            "showbackground": true,
            "ticks": "",
            "zerolinecolor": "white"
           },
           "zaxis": {
            "backgroundcolor": "#E5ECF6",
            "gridcolor": "white",
            "gridwidth": 2,
            "linecolor": "white",
            "showbackground": true,
            "ticks": "",
            "zerolinecolor": "white"
           }
          },
          "shapedefaults": {
           "line": {
            "color": "#2a3f5f"
           }
          },
          "ternary": {
           "aaxis": {
            "gridcolor": "white",
            "linecolor": "white",
            "ticks": ""
           },
           "baxis": {
            "gridcolor": "white",
            "linecolor": "white",
            "ticks": ""
           },
           "bgcolor": "#E5ECF6",
           "caxis": {
            "gridcolor": "white",
            "linecolor": "white",
            "ticks": ""
           }
          },
          "title": {
           "x": 0.05
          },
          "xaxis": {
           "automargin": true,
           "gridcolor": "white",
           "linecolor": "white",
           "ticks": "",
           "title": {
            "standoff": 15
           },
           "zerolinecolor": "white",
           "zerolinewidth": 2
          },
          "yaxis": {
           "automargin": true,
           "gridcolor": "white",
           "linecolor": "white",
           "ticks": "",
           "title": {
            "standoff": 15
           },
           "zerolinecolor": "white",
           "zerolinewidth": 2
          }
         }
        }
       }
      },
      "text/html": [
       "<div>\n",
       "        \n",
       "        \n",
       "            <div id=\"c7a18a4b-dcf0-4a07-adee-d1efc8f73f62\" class=\"plotly-graph-div\" style=\"height:525px; width:100%;\"></div>\n",
       "            <script type=\"text/javascript\">\n",
       "                require([\"plotly\"], function(Plotly) {\n",
       "                    window.PLOTLYENV=window.PLOTLYENV || {};\n",
       "                    \n",
       "                if (document.getElementById(\"c7a18a4b-dcf0-4a07-adee-d1efc8f73f62\")) {\n",
       "                    Plotly.newPlot(\n",
       "                        'c7a18a4b-dcf0-4a07-adee-d1efc8f73f62',\n",
       "                        [{\"mode\": \"lines\", \"name\": \"lines\", \"type\": \"scatter\", \"x\": [0.0, 0.010101010101010102, 0.020202020202020204, 0.030303030303030304, 0.04040404040404041, 0.05050505050505051, 0.06060606060606061, 0.07070707070707072, 0.08080808080808081, 0.09090909090909091, 0.10101010101010102, 0.11111111111111112, 0.12121212121212122, 0.13131313131313133, 0.14141414141414144, 0.15151515151515152, 0.16161616161616163, 0.17171717171717174, 0.18181818181818182, 0.19191919191919193, 0.20202020202020204, 0.21212121212121213, 0.22222222222222224, 0.23232323232323235, 0.24242424242424243, 0.25252525252525254, 0.26262626262626265, 0.27272727272727276, 0.2828282828282829, 0.29292929292929293, 0.30303030303030304, 0.31313131313131315, 0.32323232323232326, 0.33333333333333337, 0.3434343434343435, 0.3535353535353536, 0.36363636363636365, 0.37373737373737376, 0.38383838383838387, 0.393939393939394, 0.4040404040404041, 0.4141414141414142, 0.42424242424242425, 0.43434343434343436, 0.4444444444444445, 0.4545454545454546, 0.4646464646464647, 0.4747474747474748, 0.48484848484848486, 0.494949494949495, 0.5050505050505051, 0.5151515151515152, 0.5252525252525253, 0.5353535353535354, 0.5454545454545455, 0.5555555555555556, 0.5656565656565657, 0.5757575757575758, 0.5858585858585859, 0.595959595959596, 0.6060606060606061, 0.6161616161616162, 0.6262626262626263, 0.6363636363636365, 0.6464646464646465, 0.6565656565656566, 0.6666666666666667, 0.6767676767676768, 0.686868686868687, 0.696969696969697, 0.7070707070707072, 0.7171717171717172, 0.7272727272727273, 0.7373737373737375, 0.7474747474747475, 0.7575757575757577, 0.7676767676767677, 0.7777777777777778, 0.787878787878788, 0.797979797979798, 0.8080808080808082, 0.8181818181818182, 0.8282828282828284, 0.8383838383838385, 0.8484848484848485, 0.8585858585858587, 0.8686868686868687, 0.8787878787878789, 0.888888888888889, 0.8989898989898991, 0.9090909090909092, 0.9191919191919192, 0.9292929292929294, 0.9393939393939394, 0.9494949494949496, 0.9595959595959597, 0.9696969696969697, 0.9797979797979799, 0.98989898989899, 1.0], \"y\": [0, 385, 761, 1129, 1490, 1843, 2188, 2525, 2854, 3175, 3489, 3795, 4092, 4382, 4665, 4939, 5206, 5464, 5715, 5958, 6193, 6421, 6640, 6852, 7056, 7251, 7440, 7620, 7792, 7957, 8114, 8263, 8404, 8537, 8662, 8780, 8890, 8992, 9086, 9172, 9250, 9321, 9384, 9439, 9486, 9525, 9556, 9580, 9595, 9603, 9603, 9595, 9580, 9556, 9525, 9486, 9439, 9384, 9321, 9250, 9172, 9086, 8992, 8890, 8780, 8662, 8537, 8404, 8263, 8114, 7957, 7792, 7620, 7440, 7251, 7056, 6852, 6640, 6421, 6193, 5958, 5715, 5464, 5206, 4939, 4665, 4382, 4092, 3795, 3489, 3175, 2854, 2525, 2188, 1843, 1490, 1129, 761, 385, 0]}],\n",
       "                        {\"template\": {\"data\": {\"bar\": [{\"error_x\": {\"color\": \"#2a3f5f\"}, \"error_y\": {\"color\": \"#2a3f5f\"}, \"marker\": {\"line\": {\"color\": \"#E5ECF6\", \"width\": 0.5}}, \"type\": \"bar\"}], \"barpolar\": [{\"marker\": {\"line\": {\"color\": \"#E5ECF6\", \"width\": 0.5}}, \"type\": \"barpolar\"}], \"carpet\": [{\"aaxis\": {\"endlinecolor\": \"#2a3f5f\", \"gridcolor\": \"white\", \"linecolor\": \"white\", \"minorgridcolor\": \"white\", \"startlinecolor\": \"#2a3f5f\"}, \"baxis\": {\"endlinecolor\": \"#2a3f5f\", \"gridcolor\": \"white\", \"linecolor\": \"white\", \"minorgridcolor\": \"white\", \"startlinecolor\": \"#2a3f5f\"}, \"type\": \"carpet\"}], \"choropleth\": [{\"colorbar\": {\"outlinewidth\": 0, \"ticks\": \"\"}, \"type\": \"choropleth\"}], \"contour\": [{\"colorbar\": {\"outlinewidth\": 0, \"ticks\": \"\"}, \"colorscale\": [[0.0, \"#0d0887\"], [0.1111111111111111, \"#46039f\"], [0.2222222222222222, \"#7201a8\"], [0.3333333333333333, \"#9c179e\"], [0.4444444444444444, \"#bd3786\"], [0.5555555555555556, \"#d8576b\"], [0.6666666666666666, \"#ed7953\"], [0.7777777777777778, \"#fb9f3a\"], [0.8888888888888888, \"#fdca26\"], [1.0, \"#f0f921\"]], \"type\": \"contour\"}], \"contourcarpet\": [{\"colorbar\": {\"outlinewidth\": 0, \"ticks\": \"\"}, \"type\": \"contourcarpet\"}], \"heatmap\": [{\"colorbar\": {\"outlinewidth\": 0, \"ticks\": \"\"}, \"colorscale\": [[0.0, \"#0d0887\"], [0.1111111111111111, \"#46039f\"], [0.2222222222222222, \"#7201a8\"], [0.3333333333333333, \"#9c179e\"], [0.4444444444444444, \"#bd3786\"], [0.5555555555555556, \"#d8576b\"], [0.6666666666666666, \"#ed7953\"], [0.7777777777777778, \"#fb9f3a\"], [0.8888888888888888, \"#fdca26\"], [1.0, \"#f0f921\"]], \"type\": \"heatmap\"}], \"heatmapgl\": [{\"colorbar\": {\"outlinewidth\": 0, \"ticks\": \"\"}, \"colorscale\": [[0.0, \"#0d0887\"], [0.1111111111111111, \"#46039f\"], [0.2222222222222222, \"#7201a8\"], [0.3333333333333333, \"#9c179e\"], [0.4444444444444444, \"#bd3786\"], [0.5555555555555556, \"#d8576b\"], [0.6666666666666666, \"#ed7953\"], [0.7777777777777778, \"#fb9f3a\"], [0.8888888888888888, \"#fdca26\"], [1.0, \"#f0f921\"]], \"type\": \"heatmapgl\"}], \"histogram\": [{\"marker\": {\"colorbar\": {\"outlinewidth\": 0, \"ticks\": \"\"}}, \"type\": \"histogram\"}], \"histogram2d\": [{\"colorbar\": {\"outlinewidth\": 0, \"ticks\": \"\"}, \"colorscale\": [[0.0, \"#0d0887\"], [0.1111111111111111, \"#46039f\"], [0.2222222222222222, \"#7201a8\"], [0.3333333333333333, \"#9c179e\"], [0.4444444444444444, \"#bd3786\"], [0.5555555555555556, \"#d8576b\"], [0.6666666666666666, \"#ed7953\"], [0.7777777777777778, \"#fb9f3a\"], [0.8888888888888888, \"#fdca26\"], [1.0, \"#f0f921\"]], \"type\": \"histogram2d\"}], \"histogram2dcontour\": [{\"colorbar\": {\"outlinewidth\": 0, \"ticks\": \"\"}, \"colorscale\": [[0.0, \"#0d0887\"], [0.1111111111111111, \"#46039f\"], [0.2222222222222222, \"#7201a8\"], [0.3333333333333333, \"#9c179e\"], [0.4444444444444444, \"#bd3786\"], [0.5555555555555556, \"#d8576b\"], [0.6666666666666666, \"#ed7953\"], [0.7777777777777778, \"#fb9f3a\"], [0.8888888888888888, \"#fdca26\"], [1.0, \"#f0f921\"]], \"type\": \"histogram2dcontour\"}], \"mesh3d\": [{\"colorbar\": {\"outlinewidth\": 0, \"ticks\": \"\"}, \"type\": \"mesh3d\"}], \"parcoords\": [{\"line\": {\"colorbar\": {\"outlinewidth\": 0, \"ticks\": \"\"}}, \"type\": \"parcoords\"}], \"pie\": [{\"automargin\": true, \"type\": \"pie\"}], \"scatter\": [{\"marker\": {\"colorbar\": {\"outlinewidth\": 0, \"ticks\": \"\"}}, \"type\": \"scatter\"}], \"scatter3d\": [{\"line\": {\"colorbar\": {\"outlinewidth\": 0, \"ticks\": \"\"}}, \"marker\": {\"colorbar\": {\"outlinewidth\": 0, \"ticks\": \"\"}}, \"type\": \"scatter3d\"}], \"scattercarpet\": [{\"marker\": {\"colorbar\": {\"outlinewidth\": 0, \"ticks\": \"\"}}, \"type\": \"scattercarpet\"}], \"scattergeo\": [{\"marker\": {\"colorbar\": {\"outlinewidth\": 0, \"ticks\": \"\"}}, \"type\": \"scattergeo\"}], \"scattergl\": [{\"marker\": {\"colorbar\": {\"outlinewidth\": 0, \"ticks\": \"\"}}, \"type\": \"scattergl\"}], \"scattermapbox\": [{\"marker\": {\"colorbar\": {\"outlinewidth\": 0, \"ticks\": \"\"}}, \"type\": \"scattermapbox\"}], \"scatterpolar\": [{\"marker\": {\"colorbar\": {\"outlinewidth\": 0, \"ticks\": \"\"}}, \"type\": \"scatterpolar\"}], \"scatterpolargl\": [{\"marker\": {\"colorbar\": {\"outlinewidth\": 0, \"ticks\": \"\"}}, \"type\": \"scatterpolargl\"}], \"scatterternary\": [{\"marker\": {\"colorbar\": {\"outlinewidth\": 0, \"ticks\": \"\"}}, \"type\": \"scatterternary\"}], \"surface\": [{\"colorbar\": {\"outlinewidth\": 0, \"ticks\": \"\"}, \"colorscale\": [[0.0, \"#0d0887\"], [0.1111111111111111, \"#46039f\"], [0.2222222222222222, \"#7201a8\"], [0.3333333333333333, \"#9c179e\"], [0.4444444444444444, \"#bd3786\"], [0.5555555555555556, \"#d8576b\"], [0.6666666666666666, \"#ed7953\"], [0.7777777777777778, \"#fb9f3a\"], [0.8888888888888888, \"#fdca26\"], [1.0, \"#f0f921\"]], \"type\": \"surface\"}], \"table\": [{\"cells\": {\"fill\": {\"color\": \"#EBF0F8\"}, \"line\": {\"color\": \"white\"}}, \"header\": {\"fill\": {\"color\": \"#C8D4E3\"}, \"line\": {\"color\": \"white\"}}, \"type\": \"table\"}]}, \"layout\": {\"annotationdefaults\": {\"arrowcolor\": \"#2a3f5f\", \"arrowhead\": 0, \"arrowwidth\": 1}, \"coloraxis\": {\"colorbar\": {\"outlinewidth\": 0, \"ticks\": \"\"}}, \"colorscale\": {\"diverging\": [[0, \"#8e0152\"], [0.1, \"#c51b7d\"], [0.2, \"#de77ae\"], [0.3, \"#f1b6da\"], [0.4, \"#fde0ef\"], [0.5, \"#f7f7f7\"], [0.6, \"#e6f5d0\"], [0.7, \"#b8e186\"], [0.8, \"#7fbc41\"], [0.9, \"#4d9221\"], [1, \"#276419\"]], \"sequential\": [[0.0, \"#0d0887\"], [0.1111111111111111, \"#46039f\"], [0.2222222222222222, \"#7201a8\"], [0.3333333333333333, \"#9c179e\"], [0.4444444444444444, \"#bd3786\"], [0.5555555555555556, \"#d8576b\"], [0.6666666666666666, \"#ed7953\"], [0.7777777777777778, \"#fb9f3a\"], [0.8888888888888888, \"#fdca26\"], [1.0, \"#f0f921\"]], \"sequentialminus\": [[0.0, \"#0d0887\"], [0.1111111111111111, \"#46039f\"], [0.2222222222222222, \"#7201a8\"], [0.3333333333333333, \"#9c179e\"], [0.4444444444444444, \"#bd3786\"], [0.5555555555555556, \"#d8576b\"], [0.6666666666666666, \"#ed7953\"], [0.7777777777777778, \"#fb9f3a\"], [0.8888888888888888, \"#fdca26\"], [1.0, \"#f0f921\"]]}, \"colorway\": [\"#636efa\", \"#EF553B\", \"#00cc96\", \"#ab63fa\", \"#FFA15A\", \"#19d3f3\", \"#FF6692\", \"#B6E880\", \"#FF97FF\", \"#FECB52\"], \"font\": {\"color\": \"#2a3f5f\"}, \"geo\": {\"bgcolor\": \"white\", \"lakecolor\": \"white\", \"landcolor\": \"#E5ECF6\", \"showlakes\": true, \"showland\": true, \"subunitcolor\": \"white\"}, \"hoverlabel\": {\"align\": \"left\"}, \"hovermode\": \"closest\", \"mapbox\": {\"style\": \"light\"}, \"paper_bgcolor\": \"white\", \"plot_bgcolor\": \"#E5ECF6\", \"polar\": {\"angularaxis\": {\"gridcolor\": \"white\", \"linecolor\": \"white\", \"ticks\": \"\"}, \"bgcolor\": \"#E5ECF6\", \"radialaxis\": {\"gridcolor\": \"white\", \"linecolor\": \"white\", \"ticks\": \"\"}}, \"scene\": {\"xaxis\": {\"backgroundcolor\": \"#E5ECF6\", \"gridcolor\": \"white\", \"gridwidth\": 2, \"linecolor\": \"white\", \"showbackground\": true, \"ticks\": \"\", \"zerolinecolor\": \"white\"}, \"yaxis\": {\"backgroundcolor\": \"#E5ECF6\", \"gridcolor\": \"white\", \"gridwidth\": 2, \"linecolor\": \"white\", \"showbackground\": true, \"ticks\": \"\", \"zerolinecolor\": \"white\"}, \"zaxis\": {\"backgroundcolor\": \"#E5ECF6\", \"gridcolor\": \"white\", \"gridwidth\": 2, \"linecolor\": \"white\", \"showbackground\": true, \"ticks\": \"\", \"zerolinecolor\": \"white\"}}, \"shapedefaults\": {\"line\": {\"color\": \"#2a3f5f\"}}, \"ternary\": {\"aaxis\": {\"gridcolor\": \"white\", \"linecolor\": \"white\", \"ticks\": \"\"}, \"baxis\": {\"gridcolor\": \"white\", \"linecolor\": \"white\", \"ticks\": \"\"}, \"bgcolor\": \"#E5ECF6\", \"caxis\": {\"gridcolor\": \"white\", \"linecolor\": \"white\", \"ticks\": \"\"}}, \"title\": {\"x\": 0.05}, \"xaxis\": {\"automargin\": true, \"gridcolor\": \"white\", \"linecolor\": \"white\", \"ticks\": \"\", \"title\": {\"standoff\": 15}, \"zerolinecolor\": \"white\", \"zerolinewidth\": 2}, \"yaxis\": {\"automargin\": true, \"gridcolor\": \"white\", \"linecolor\": \"white\", \"ticks\": \"\", \"title\": {\"standoff\": 15}, \"zerolinecolor\": \"white\", \"zerolinewidth\": 2}}}},\n",
       "                        {\"responsive\": true}\n",
       "                    ).then(function(){\n",
       "                            \n",
       "var gd = document.getElementById('c7a18a4b-dcf0-4a07-adee-d1efc8f73f62');\n",
       "var x = new MutationObserver(function (mutations, observer) {{\n",
       "        var display = window.getComputedStyle(gd).display;\n",
       "        if (!display || display === 'none') {{\n",
       "            console.log([gd, 'removed!']);\n",
       "            Plotly.purge(gd);\n",
       "            observer.disconnect();\n",
       "        }}\n",
       "}});\n",
       "\n",
       "// Listen for the removal of the full notebook cells\n",
       "var notebookContainer = gd.closest('#notebook-container');\n",
       "if (notebookContainer) {{\n",
       "    x.observe(notebookContainer, {childList: true});\n",
       "}}\n",
       "\n",
       "// Listen for the clearing of the current output cell\n",
       "var outputEl = gd.closest('.output');\n",
       "if (outputEl) {{\n",
       "    x.observe(outputEl, {childList: true});\n",
       "}}\n",
       "\n",
       "                        })\n",
       "                };\n",
       "                });\n",
       "            </script>\n",
       "        </div>"
      ]
     },
     "metadata": {},
     "output_type": "display_data"
    }
   ],
   "source": [
    "fig = go.Figure()\n",
    "fig.add_trace(go.Scatter(x=x, y=n_samples, mode='lines', name='lines'))\n",
    "fig.show()"
   ]
  },
  {
   "cell_type": "code",
   "execution_count": 12,
   "metadata": {},
   "outputs": [
    {
     "data": {
      "text/plain": [
       "9603"
      ]
     },
     "execution_count": 12,
     "metadata": {},
     "output_type": "execute_result"
    }
   ],
   "source": [
    "np.array(n_samples).max()"
   ]
  },
  {
   "cell_type": "code",
   "execution_count": 1,
   "metadata": {},
   "outputs": [
    {
     "name": "stdout",
     "output_type": "stream",
     "text": [
      "normal_interval [0.573053, 0.754369] with width 0.181315\n"
     ]
    }
   ],
   "source": [
    "from statsmodels.stats.proportion import proportion_confint\n",
    "normal_interval = proportion_confint(67, 100, alpha=0.05, method = 'wilson')\n",
    "print 'normal_interval [%f, %f] with width %f' % (normal_interval[0],\n",
    "                                                  normal_interval[1], \n",
    "                                                  normal_interval[1] - normal_interval[0])"
   ]
  },
  {
   "cell_type": "code",
   "execution_count": 33,
   "metadata": {},
   "outputs": [],
   "source": [
    "import numpy as np\n",
    "alpha = np.linspace(0.0888,0.09,6)\n",
    "normal_interval = list()\n",
    "for al in alpha:\n",
    "    normal_interval.append((proportion_confint(75, 100, alpha=al, method = 'wilson'),al))\n",
    "#for i in range(0,len(alpha)):\n",
    "#    print 'normal_interval [%f, %f] with width %f' % (normal_interval[i][0],\n",
    "#                                                  normal_interval[i][1], \n",
    "#                                                  al[i])"
   ]
  },
  {
   "cell_type": "code",
   "execution_count": 34,
   "metadata": {},
   "outputs": [
    {
     "data": {
      "text/plain": [
       "[((0.6699797420471395, 0.8159478258557699), 0.0888),\n",
       " ((0.6700437914745422, 0.8159043170203687), 0.08904000000000001),\n",
       " ((0.6701076974625495, 0.8158608934124081), 0.08928),\n",
       " ((0.6701714607419198, 0.8158175546121433), 0.08952),\n",
       " ((0.670235082037737, 0.8157743002030133), 0.08975999999999999),\n",
       " ((0.6702985620694699, 0.8157311297716088), 0.09)]"
      ]
     },
     "execution_count": 34,
     "metadata": {},
     "output_type": "execute_result"
    }
   ],
   "source": [
    "normal_interval"
   ]
  },
  {
   "cell_type": "code",
   "execution_count": 36,
   "metadata": {},
   "outputs": [],
   "source": [
    "import pandas as pd"
   ]
  },
  {
   "cell_type": "code",
   "execution_count": 38,
   "metadata": {},
   "outputs": [
    {
     "data": {
      "text/html": [
       "<div>\n",
       "<style scoped>\n",
       "    .dataframe tbody tr th:only-of-type {\n",
       "        vertical-align: middle;\n",
       "    }\n",
       "\n",
       "    .dataframe tbody tr th {\n",
       "        vertical-align: top;\n",
       "    }\n",
       "\n",
       "    .dataframe thead th {\n",
       "        text-align: right;\n",
       "    }\n",
       "</style>\n",
       "<table border=\"1\" class=\"dataframe\">\n",
       "  <thead>\n",
       "    <tr style=\"text-align: right;\">\n",
       "      <th></th>\n",
       "      <th>sn</th>\n",
       "      <th>we</th>\n",
       "    </tr>\n",
       "  </thead>\n",
       "  <tbody>\n",
       "    <tr>\n",
       "      <th>0</th>\n",
       "      <td>200.0</td>\n",
       "      <td>8.8</td>\n",
       "    </tr>\n",
       "    <tr>\n",
       "      <th>1</th>\n",
       "      <td>199.3</td>\n",
       "      <td>10.0</td>\n",
       "    </tr>\n",
       "    <tr>\n",
       "      <th>2</th>\n",
       "      <td>193.6</td>\n",
       "      <td>22.4</td>\n",
       "    </tr>\n",
       "    <tr>\n",
       "      <th>3</th>\n",
       "      <td>167.7</td>\n",
       "      <td>35.6</td>\n",
       "    </tr>\n",
       "    <tr>\n",
       "      <th>4</th>\n",
       "      <td>183.9</td>\n",
       "      <td>45.4</td>\n",
       "    </tr>\n",
       "  </tbody>\n",
       "</table>\n",
       "</div>"
      ],
      "text/plain": [
       "      sn    we\n",
       "0  200.0   8.8\n",
       "1  199.3  10.0\n",
       "2  193.6  22.4\n",
       "3  167.7  35.6\n",
       "4  183.9  45.4"
      ]
     },
     "execution_count": 38,
     "metadata": {},
     "output_type": "execute_result"
    }
   ],
   "source": [
    "df = pd.read_csv('pines.csv', sep='\\t')\n",
    "df.head()"
   ]
  },
  {
   "cell_type": "code",
   "execution_count": 39,
   "metadata": {},
   "outputs": [
    {
     "data": {
      "text/html": [
       "        <script type=\"text/javascript\">\n",
       "        window.PlotlyConfig = {MathJaxConfig: 'local'};\n",
       "        if (window.MathJax) {MathJax.Hub.Config({SVG: {font: \"STIX-Web\"}});}\n",
       "        if (typeof require !== 'undefined') {\n",
       "        require.undef(\"plotly\");\n",
       "        requirejs.config({\n",
       "            paths: {\n",
       "                'plotly': ['https://cdn.plot.ly/plotly-latest.min']\n",
       "            }\n",
       "        });\n",
       "        require(['plotly'], function(Plotly) {\n",
       "            window._Plotly = Plotly;\n",
       "        });\n",
       "        }\n",
       "        </script>\n",
       "        "
      ]
     },
     "metadata": {},
     "output_type": "display_data"
    }
   ],
   "source": [
    "import pandas as pd\n",
    "import numpy as np\n",
    "from plotly.offline import download_plotlyjs, init_notebook_mode, plot, iplot\n",
    "import plotly.graph_objs as go\n",
    "\n",
    "init_notebook_mode(connected=True)"
   ]
  },
  {
   "cell_type": "code",
   "execution_count": 40,
   "metadata": {},
   "outputs": [
    {
     "data": {
      "application/vnd.plotly.v1+json": {
       "config": {
        "plotlyServerURL": "https://plot.ly"
       },
       "data": [
        {
         "mode": "markers",
         "name": "markers",
         "type": "scatter",
         "x": [
          200,
          199.3,
          193.6,
          167.7,
          183.9,
          182.5,
          166.1,
          160.7,
          162.9,
          166.4,
          163,
          156.1,
          157.6,
          154.4,
          150.8,
          144.6,
          142.7,
          144,
          143.5,
          123.1,
          113.9,
          114.9,
          101.4,
          105.7,
          106.9,
          127,
          129.8,
          136.3,
          106.7,
          103.4,
          89.7,
          10.8,
          26.4,
          11,
          5.1,
          10.1,
          18.9,
          28.4,
          41.1,
          41.2,
          33.9,
          40.8,
          49.7,
          6.7,
          11.6,
          17.2,
          19.4,
          26.9,
          39.6,
          38,
          19.1,
          32.1,
          28.4,
          3.8,
          8.5,
          11.2,
          22.4,
          23.8,
          24.9,
          9,
          10.4,
          30.9,
          48.9,
          49.5,
          46.3,
          44.1,
          48.5,
          45.9,
          44.2,
          37,
          36.3,
          36.7,
          35.3,
          33.5,
          29.3,
          22.4,
          17.1,
          27.3,
          27.9,
          48.4,
          43.6,
          39,
          14.9,
          6.1,
          10.7,
          22.2,
          32.7,
          0.9,
          93.5,
          85.1,
          92.8,
          91.3,
          95.9,
          93.4,
          89.6,
          99.5,
          100.6,
          103.5,
          104.7,
          104,
          104.2,
          105,
          111.8,
          112.4,
          110,
          120.4,
          109.4,
          109.7,
          113.3,
          118,
          126.5,
          125.1,
          114.2,
          110.6,
          147.3,
          146.7,
          148.1,
          138.2,
          135.7,
          134.9,
          98,
          93.5,
          82.3,
          79.2,
          84.2,
          88.8,
          82.5,
          75.6,
          72.9,
          79.1,
          50,
          59.9,
          60.5,
          60.2,
          66.5,
          70.4,
          70.7,
          71.7,
          179.5,
          186.1,
          178.3,
          178.6,
          186.2,
          185.2,
          185.5,
          185.8,
          186.5,
          176.7,
          177.7,
          184,
          11,
          17.5,
          4.3,
          5.9,
          1.9,
          1.8,
          1.1,
          2.4,
          4.6,
          3.1,
          3.9,
          4.1,
          7.9,
          14.8,
          9.4,
          15.9,
          16.6,
          18.2,
          174.1,
          173,
          174,
          177.3,
          177.6,
          195.7,
          197,
          178.2,
          173.8,
          172.8,
          162.7,
          164.6,
          80.4,
          71,
          73,
          56.7,
          66.5,
          67,
          62.9,
          61.8,
          51.9,
          60.9,
          61,
          61.7,
          57.3,
          54.2,
          76.1,
          67.2,
          81.9,
          90.1,
          135.3,
          135,
          136.2,
          129.7,
          134.8,
          136.9,
          137,
          128.9,
          127.5,
          127.6,
          129.7,
          126.6,
          133.4,
          129.9,
          126.5,
          129.1,
          134.4,
          130.7,
          130.9,
          132,
          136.8,
          137.7,
          157.8,
          187.1,
          190.6,
          185.4,
          186.6,
          185.9,
          184.3,
          188.2,
          104.4,
          104.9,
          101.5,
          102.4,
          123.4,
          123.8,
          127,
          109.6,
          112.4,
          133.1,
          139.4,
          140.4,
          184.1,
          183.5,
          183,
          176.1,
          175.6,
          173.8,
          164.9,
          163,
          163.2,
          162.4,
          161.5,
          162.2,
          161,
          157.7,
          154.9,
          154.6,
          152.9,
          153.2,
          168.2,
          151.6,
          151.4,
          157.6,
          149.4,
          149.4,
          167.3,
          157.4,
          181.5,
          196.5,
          189.9,
          155.1,
          154.5,
          162.9,
          158.4,
          153.9,
          156.1,
          156.5,
          156.8,
          159,
          161,
          161.3,
          160.6,
          161.3,
          159.7,
          161.7,
          161.1,
          160.1,
          159,
          160,
          160.2,
          159.1,
          154.7,
          151.9,
          151.3,
          151,
          150.4,
          149.6,
          146.2,
          146.1,
          144.4,
          143.3,
          140.6,
          143.2,
          127.1,
          120.7,
          115.3,
          134.1,
          134.6,
          135.6,
          128.9,
          116.3,
          104.3,
          111.5,
          100.5,
          100,
          100.8,
          100.9,
          100.3,
          101.5,
          99.3,
          99.2,
          102,
          105.4,
          103.6,
          103.9,
          102.6,
          102,
          102.1,
          103.5,
          102.9,
          105.7,
          106.6,
          108.5,
          105.2,
          139.7,
          145.5,
          146.4,
          105.8,
          96.7,
          66.5,
          55.7,
          54.7,
          57.1,
          61.7,
          60.1,
          77.7,
          67.2,
          80.7,
          85.1,
          94.7,
          81.2,
          81.9,
          83.8,
          84.8,
          82.9,
          82.1,
          84.3,
          96.7,
          92,
          96.1,
          78.5,
          78.7,
          59.5,
          56.5,
          64.3,
          152.7,
          155.8,
          161.2,
          161,
          162.1,
          166.2,
          168.7,
          169.3,
          57.9,
          57.5,
          57.3,
          56,
          53.4,
          53.1,
          54,
          54.5,
          53.3,
          52.1,
          48,
          44.2,
          39.4,
          42.7,
          38.1,
          37.1,
          37.6,
          31.2,
          40.1,
          29.3,
          23.8,
          141,
          140.1,
          140.9,
          135,
          139.3,
          142,
          140.4,
          138.5,
          28.7,
          33.7,
          23.1,
          11.3,
          18.2,
          21.5,
          15.9,
          15.4,
          14,
          6.8,
          6,
          1.6,
          43.6,
          39.4,
          37.1,
          23.7,
          21.5,
          27.7,
          32.3,
          32.6,
          37.7,
          107.5,
          107.9,
          116.5,
          114.5,
          115.3,
          115.3,
          119,
          119.4,
          94.7,
          89.3,
          90.8,
          95.3,
          90.9,
          90.2,
          90.2,
          90.6,
          93,
          78.4,
          76.2,
          75.8,
          75.7,
          82.7,
          76.7,
          74.7,
          119.4,
          74.2,
          73.9,
          81.7,
          79.5,
          56.8,
          62.2,
          58.2,
          54.1,
          59.5,
          58.6,
          58.8,
          57.9,
          153.5,
          155.9,
          160.4,
          171.3,
          182.8,
          182.5,
          176.3,
          161.9,
          199.5,
          197.6,
          196.3,
          195.7,
          196.2,
          196.3,
          193.7,
          191.7,
          194.5,
          192.7,
          188.9,
          190.1,
          186.9,
          26.9,
          17.9,
          34.4,
          31.9,
          20.6,
          14.1,
          2.9,
          6.4,
          2.2,
          11.7,
          14.2,
          15.6,
          13.6,
          11.1,
          7.2,
          12.2,
          23,
          30.2,
          27.7,
          3.4,
          15.4,
          16.7,
          24.3,
          0.4,
          0,
          7.9,
          33.2,
          36.6,
          42.2,
          24.5,
          40.4,
          41,
          43.9,
          44.7,
          45.6,
          47.5,
          51.2,
          55,
          58,
          54.6,
          58.9,
          63.9,
          64.3,
          65.6,
          61,
          63.1,
          86.1,
          65.8,
          90,
          94.3,
          91.9,
          86.5,
          87.5,
          93.9,
          92.4,
          81.8,
          99,
          94.1,
          95.4,
          97.1,
          79.2,
          61.6,
          70.3,
          79.8,
          110.1,
          116.1,
          114,
          103.2,
          112.3,
          110.4,
          110.6,
          107,
          105.6,
          104,
          104,
          103.7,
          108.6,
          105.7,
          102.8,
          101.5,
          100.4,
          144.1,
          138.3,
          142.7,
          118.8,
          142.3,
          143.8,
          145.3,
          151.2,
          153.7,
          186.9,
          181.2,
          181.1,
          177.2,
          182.8,
          180,
          189.1,
          196.9,
          171.4,
          169.1,
          162.5,
          156.7,
          154.1,
          87.7
         ],
         "y": [
          8.8,
          10,
          22.4,
          35.6,
          45.4,
          47.2,
          48.8,
          42.1,
          29,
          33.6,
          35.8,
          38.7,
          42.8,
          36.2,
          45.8,
          25.4,
          25.4,
          28.3,
          36.9,
          14.3,
          13.1,
          8.1,
          9.3,
          9.1,
          14.7,
          29.7,
          45.8,
          44.2,
          49.4,
          49.6,
          10.8,
          0,
          5.4,
          5.5,
          3.9,
          8.5,
          11.3,
          11,
          9.2,
          12.6,
          21.4,
          39.8,
          18.2,
          46.9,
          46.9,
          47.9,
          50,
          47.9,
          47.9,
          50.7,
          45.2,
          35,
          35.5,
          44.8,
          43.4,
          40.2,
          34.3,
          33.3,
          29.8,
          38.9,
          61.2,
          52.2,
          67.8,
          73.8,
          80.9,
          78,
          94.8,
          90.4,
          84,
          64.3,
          67.7,
          71.5,
          78.3,
          81.6,
          83.8,
          84.1,
          84.7,
          89.4,
          90.6,
          99.5,
          98.4,
          97.3,
          91.2,
          96.2,
          98.6,
          100,
          99.1,
          100,
          96.2,
          90.6,
          61.5,
          69.5,
          59.7,
          71.5,
          86.3,
          78.9,
          53.1,
          72.1,
          74,
          67.1,
          64.7,
          59.8,
          73.2,
          69.8,
          65.9,
          79.2,
          62.5,
          62.9,
          60.4,
          69.3,
          69.2,
          68.2,
          54.6,
          51.5,
          73.8,
          73,
          86.2,
          73.4,
          70.7,
          72.7,
          27.7,
          28.7,
          16.8,
          25.3,
          29,
          35.1,
          36.3,
          28.1,
          36.2,
          43.6,
          48.8,
          34.4,
          13,
          11.4,
          15.9,
          6.6,
          2.2,
          1.9,
          92.6,
          91,
          92.4,
          91.8,
          90.3,
          89.9,
          89.8,
          89.1,
          88.8,
          92.3,
          91.5,
          89,
          34.4,
          21.9,
          31.3,
          8.1,
          68.5,
          71,
          82.5,
          95.3,
          94,
          79.5,
          72.1,
          70.9,
          68.7,
          81.8,
          67.7,
          78.7,
          78.8,
          80.3,
          135.6,
          127.4,
          125.7,
          121,
          120.3,
          144.1,
          142.5,
          112.6,
          112.7,
          124.4,
          114.6,
          120.9,
          90.7,
          88.8,
          85.6,
          95.3,
          86.2,
          84.7,
          87.9,
          89,
          94.5,
          71.6,
          69.8,
          66.2,
          68.4,
          76.3,
          52.9,
          57.6,
          58.5,
          59.6,
          126.6,
          124,
          122.1,
          127,
          120.2,
          116.8,
          116,
          124.2,
          125,
          121.7,
          119,
          121.1,
          77.1,
          76.1,
          77.3,
          83.1,
          87,
          90.1,
          90.7,
          94.5,
          96.7,
          98,
          99,
          98.1,
          92.1,
          93.1,
          92.2,
          91.7,
          92.1,
          91.2,
          145.1,
          145,
          148.4,
          148.7,
          128.9,
          135.1,
          133.8,
          145.9,
          145,
          144.8,
          143.1,
          143.6,
          88.2,
          88.5,
          88,
          91,
          90.2,
          89.9,
          93.7,
          95.3,
          94.1,
          94.5,
          94.9,
          94.3,
          94.7,
          95.7,
          96.2,
          92.7,
          93.7,
          93.2,
          73,
          93,
          93.4,
          67.2,
          63,
          64.3,
          54.6,
          51.5,
          66.1,
          55.2,
          85.2,
          149.2,
          148.4,
          119.9,
          113.4,
          108.3,
          116,
          118.9,
          122.3,
          126.1,
          131.9,
          132.8,
          132.6,
          134.9,
          129.8,
          136.1,
          136.4,
          133,
          133.6,
          134.8,
          135.5,
          136.5,
          126.8,
          127.5,
          124.7,
          127.3,
          123,
          124.6,
          127.1,
          127.4,
          131.8,
          131.5,
          137.7,
          125.4,
          119.9,
          115.6,
          112.6,
          105.2,
          104.1,
          103.3,
          102.6,
          106.5,
          104,
          100,
          149.7,
          145.5,
          145,
          143.5,
          140.8,
          120.8,
          110.6,
          106,
          137.1,
          115.7,
          134.2,
          139.4,
          141.6,
          143.3,
          144.4,
          141.3,
          143.8,
          138.2,
          135.1,
          133.2,
          142.3,
          145.8,
          148.4,
          148.4,
          149.8,
          149.1,
          150,
          148.5,
          146.8,
          144,
          145.3,
          143.7,
          144.8,
          139.3,
          133.2,
          133.5,
          143.7,
          125,
          123.2,
          123.1,
          121.4,
          119.2,
          116.4,
          114.8,
          142.6,
          109,
          146.6,
          102.5,
          103,
          107.4,
          105.5,
          132.1,
          146.7,
          145.4,
          138.1,
          138.1,
          136.9,
          132,
          133.4,
          133.7,
          140.7,
          142.3,
          141.7,
          137.7,
          139.3,
          136,
          137.7,
          136.7,
          137.8,
          139.3,
          114.4,
          129.6,
          136.8,
          124,
          134.4,
          131.9,
          125.4,
          127.9,
          112.2,
          118.6,
          114.5,
          127.8,
          127.3,
          121.4,
          132.3,
          122.9,
          117.2,
          117.2,
          121.5,
          158.8,
          162.3,
          160.8,
          158.9,
          168.2,
          172.3,
          168.3,
          172.8,
          174.2,
          179.6,
          184.1,
          194.9,
          197.3,
          195.5,
          196.1,
          193.9,
          187.9,
          188.7,
          178.9,
          168.6,
          176.9,
          138.5,
          139.5,
          122.6,
          127.7,
          127.4,
          128.1,
          127.4,
          127.7,
          179.8,
          185,
          174,
          158.4,
          162.1,
          161.7,
          162.1,
          160.8,
          158,
          172.4,
          171.4,
          171,
          169.7,
          163.5,
          166.3,
          167.1,
          170.8,
          164.3,
          162.7,
          156.7,
          156.3,
          116,
          137.7,
          125.1,
          115.5,
          138.1,
          140.3,
          141.5,
          137.3,
          159.9,
          183.7,
          176.6,
          185.1,
          187.4,
          196,
          197.7,
          199.4,
          179.4,
          176.9,
          192.4,
          180.5,
          177.1,
          176,
          185.8,
          189.2,
          173.8,
          177.3,
          182.1,
          174.4,
          179.4,
          111.3,
          111,
          104.2,
          103.2,
          101.5,
          103.1,
          122.8,
          125.9,
          142.2,
          116.2,
          116.5,
          118.1,
          127.4,
          134.8,
          141.7,
          140.1,
          132.7,
          133.9,
          136.5,
          148.8,
          145.6,
          146.4,
          145.7,
          175.2,
          177.5,
          151,
          151.2,
          150.6,
          153.7,
          153.4,
          179.3,
          176.6,
          182.2,
          184.6,
          175.2,
          175.9,
          177.9,
          159.3,
          180.3,
          188.7,
          180,
          178.6,
          178.9,
          179.3,
          184.9,
          183.3,
          186.9,
          194.9,
          195.1,
          196.1,
          197.1,
          197.4,
          199.3,
          199.2,
          199.3,
          198.9,
          158.1,
          187.2,
          182.9,
          168.4,
          155.6,
          158.2,
          153.1,
          151.8,
          150.4,
          156.8,
          165.1,
          154.4,
          167,
          167.3,
          166.4,
          165,
          160.6,
          162.4,
          166.1,
          167.2,
          182.1,
          182.6,
          169.7,
          171.8,
          170.5,
          199,
          197.9,
          197.2,
          188,
          173.3,
          156,
          155.6,
          192.2,
          176.5,
          174.7,
          176.9,
          176.1,
          174.5,
          162.9,
          160.2,
          156.3,
          151.4,
          161.6,
          160,
          157.3,
          155.3,
          150.8,
          200
         ]
        }
       ],
       "layout": {
        "template": {
         "data": {
          "bar": [
           {
            "error_x": {
             "color": "#2a3f5f"
            },
            "error_y": {
             "color": "#2a3f5f"
            },
            "marker": {
             "line": {
              "color": "#E5ECF6",
              "width": 0.5
             }
            },
            "type": "bar"
           }
          ],
          "barpolar": [
           {
            "marker": {
             "line": {
              "color": "#E5ECF6",
              "width": 0.5
             }
            },
            "type": "barpolar"
           }
          ],
          "carpet": [
           {
            "aaxis": {
             "endlinecolor": "#2a3f5f",
             "gridcolor": "white",
             "linecolor": "white",
             "minorgridcolor": "white",
             "startlinecolor": "#2a3f5f"
            },
            "baxis": {
             "endlinecolor": "#2a3f5f",
             "gridcolor": "white",
             "linecolor": "white",
             "minorgridcolor": "white",
             "startlinecolor": "#2a3f5f"
            },
            "type": "carpet"
           }
          ],
          "choropleth": [
           {
            "colorbar": {
             "outlinewidth": 0,
             "ticks": ""
            },
            "type": "choropleth"
           }
          ],
          "contour": [
           {
            "colorbar": {
             "outlinewidth": 0,
             "ticks": ""
            },
            "colorscale": [
             [
              0,
              "#0d0887"
             ],
             [
              0.1111111111111111,
              "#46039f"
             ],
             [
              0.2222222222222222,
              "#7201a8"
             ],
             [
              0.3333333333333333,
              "#9c179e"
             ],
             [
              0.4444444444444444,
              "#bd3786"
             ],
             [
              0.5555555555555556,
              "#d8576b"
             ],
             [
              0.6666666666666666,
              "#ed7953"
             ],
             [
              0.7777777777777778,
              "#fb9f3a"
             ],
             [
              0.8888888888888888,
              "#fdca26"
             ],
             [
              1,
              "#f0f921"
             ]
            ],
            "type": "contour"
           }
          ],
          "contourcarpet": [
           {
            "colorbar": {
             "outlinewidth": 0,
             "ticks": ""
            },
            "type": "contourcarpet"
           }
          ],
          "heatmap": [
           {
            "colorbar": {
             "outlinewidth": 0,
             "ticks": ""
            },
            "colorscale": [
             [
              0,
              "#0d0887"
             ],
             [
              0.1111111111111111,
              "#46039f"
             ],
             [
              0.2222222222222222,
              "#7201a8"
             ],
             [
              0.3333333333333333,
              "#9c179e"
             ],
             [
              0.4444444444444444,
              "#bd3786"
             ],
             [
              0.5555555555555556,
              "#d8576b"
             ],
             [
              0.6666666666666666,
              "#ed7953"
             ],
             [
              0.7777777777777778,
              "#fb9f3a"
             ],
             [
              0.8888888888888888,
              "#fdca26"
             ],
             [
              1,
              "#f0f921"
             ]
            ],
            "type": "heatmap"
           }
          ],
          "heatmapgl": [
           {
            "colorbar": {
             "outlinewidth": 0,
             "ticks": ""
            },
            "colorscale": [
             [
              0,
              "#0d0887"
             ],
             [
              0.1111111111111111,
              "#46039f"
             ],
             [
              0.2222222222222222,
              "#7201a8"
             ],
             [
              0.3333333333333333,
              "#9c179e"
             ],
             [
              0.4444444444444444,
              "#bd3786"
             ],
             [
              0.5555555555555556,
              "#d8576b"
             ],
             [
              0.6666666666666666,
              "#ed7953"
             ],
             [
              0.7777777777777778,
              "#fb9f3a"
             ],
             [
              0.8888888888888888,
              "#fdca26"
             ],
             [
              1,
              "#f0f921"
             ]
            ],
            "type": "heatmapgl"
           }
          ],
          "histogram": [
           {
            "marker": {
             "colorbar": {
              "outlinewidth": 0,
              "ticks": ""
             }
            },
            "type": "histogram"
           }
          ],
          "histogram2d": [
           {
            "colorbar": {
             "outlinewidth": 0,
             "ticks": ""
            },
            "colorscale": [
             [
              0,
              "#0d0887"
             ],
             [
              0.1111111111111111,
              "#46039f"
             ],
             [
              0.2222222222222222,
              "#7201a8"
             ],
             [
              0.3333333333333333,
              "#9c179e"
             ],
             [
              0.4444444444444444,
              "#bd3786"
             ],
             [
              0.5555555555555556,
              "#d8576b"
             ],
             [
              0.6666666666666666,
              "#ed7953"
             ],
             [
              0.7777777777777778,
              "#fb9f3a"
             ],
             [
              0.8888888888888888,
              "#fdca26"
             ],
             [
              1,
              "#f0f921"
             ]
            ],
            "type": "histogram2d"
           }
          ],
          "histogram2dcontour": [
           {
            "colorbar": {
             "outlinewidth": 0,
             "ticks": ""
            },
            "colorscale": [
             [
              0,
              "#0d0887"
             ],
             [
              0.1111111111111111,
              "#46039f"
             ],
             [
              0.2222222222222222,
              "#7201a8"
             ],
             [
              0.3333333333333333,
              "#9c179e"
             ],
             [
              0.4444444444444444,
              "#bd3786"
             ],
             [
              0.5555555555555556,
              "#d8576b"
             ],
             [
              0.6666666666666666,
              "#ed7953"
             ],
             [
              0.7777777777777778,
              "#fb9f3a"
             ],
             [
              0.8888888888888888,
              "#fdca26"
             ],
             [
              1,
              "#f0f921"
             ]
            ],
            "type": "histogram2dcontour"
           }
          ],
          "mesh3d": [
           {
            "colorbar": {
             "outlinewidth": 0,
             "ticks": ""
            },
            "type": "mesh3d"
           }
          ],
          "parcoords": [
           {
            "line": {
             "colorbar": {
              "outlinewidth": 0,
              "ticks": ""
             }
            },
            "type": "parcoords"
           }
          ],
          "pie": [
           {
            "automargin": true,
            "type": "pie"
           }
          ],
          "scatter": [
           {
            "marker": {
             "colorbar": {
              "outlinewidth": 0,
              "ticks": ""
             }
            },
            "type": "scatter"
           }
          ],
          "scatter3d": [
           {
            "line": {
             "colorbar": {
              "outlinewidth": 0,
              "ticks": ""
             }
            },
            "marker": {
             "colorbar": {
              "outlinewidth": 0,
              "ticks": ""
             }
            },
            "type": "scatter3d"
           }
          ],
          "scattercarpet": [
           {
            "marker": {
             "colorbar": {
              "outlinewidth": 0,
              "ticks": ""
             }
            },
            "type": "scattercarpet"
           }
          ],
          "scattergeo": [
           {
            "marker": {
             "colorbar": {
              "outlinewidth": 0,
              "ticks": ""
             }
            },
            "type": "scattergeo"
           }
          ],
          "scattergl": [
           {
            "marker": {
             "colorbar": {
              "outlinewidth": 0,
              "ticks": ""
             }
            },
            "type": "scattergl"
           }
          ],
          "scattermapbox": [
           {
            "marker": {
             "colorbar": {
              "outlinewidth": 0,
              "ticks": ""
             }
            },
            "type": "scattermapbox"
           }
          ],
          "scatterpolar": [
           {
            "marker": {
             "colorbar": {
              "outlinewidth": 0,
              "ticks": ""
             }
            },
            "type": "scatterpolar"
           }
          ],
          "scatterpolargl": [
           {
            "marker": {
             "colorbar": {
              "outlinewidth": 0,
              "ticks": ""
             }
            },
            "type": "scatterpolargl"
           }
          ],
          "scatterternary": [
           {
            "marker": {
             "colorbar": {
              "outlinewidth": 0,
              "ticks": ""
             }
            },
            "type": "scatterternary"
           }
          ],
          "surface": [
           {
            "colorbar": {
             "outlinewidth": 0,
             "ticks": ""
            },
            "colorscale": [
             [
              0,
              "#0d0887"
             ],
             [
              0.1111111111111111,
              "#46039f"
             ],
             [
              0.2222222222222222,
              "#7201a8"
             ],
             [
              0.3333333333333333,
              "#9c179e"
             ],
             [
              0.4444444444444444,
              "#bd3786"
             ],
             [
              0.5555555555555556,
              "#d8576b"
             ],
             [
              0.6666666666666666,
              "#ed7953"
             ],
             [
              0.7777777777777778,
              "#fb9f3a"
             ],
             [
              0.8888888888888888,
              "#fdca26"
             ],
             [
              1,
              "#f0f921"
             ]
            ],
            "type": "surface"
           }
          ],
          "table": [
           {
            "cells": {
             "fill": {
              "color": "#EBF0F8"
             },
             "line": {
              "color": "white"
             }
            },
            "header": {
             "fill": {
              "color": "#C8D4E3"
             },
             "line": {
              "color": "white"
             }
            },
            "type": "table"
           }
          ]
         },
         "layout": {
          "annotationdefaults": {
           "arrowcolor": "#2a3f5f",
           "arrowhead": 0,
           "arrowwidth": 1
          },
          "coloraxis": {
           "colorbar": {
            "outlinewidth": 0,
            "ticks": ""
           }
          },
          "colorscale": {
           "diverging": [
            [
             0,
             "#8e0152"
            ],
            [
             0.1,
             "#c51b7d"
            ],
            [
             0.2,
             "#de77ae"
            ],
            [
             0.3,
             "#f1b6da"
            ],
            [
             0.4,
             "#fde0ef"
            ],
            [
             0.5,
             "#f7f7f7"
            ],
            [
             0.6,
             "#e6f5d0"
            ],
            [
             0.7,
             "#b8e186"
            ],
            [
             0.8,
             "#7fbc41"
            ],
            [
             0.9,
             "#4d9221"
            ],
            [
             1,
             "#276419"
            ]
           ],
           "sequential": [
            [
             0,
             "#0d0887"
            ],
            [
             0.1111111111111111,
             "#46039f"
            ],
            [
             0.2222222222222222,
             "#7201a8"
            ],
            [
             0.3333333333333333,
             "#9c179e"
            ],
            [
             0.4444444444444444,
             "#bd3786"
            ],
            [
             0.5555555555555556,
             "#d8576b"
            ],
            [
             0.6666666666666666,
             "#ed7953"
            ],
            [
             0.7777777777777778,
             "#fb9f3a"
            ],
            [
             0.8888888888888888,
             "#fdca26"
            ],
            [
             1,
             "#f0f921"
            ]
           ],
           "sequentialminus": [
            [
             0,
             "#0d0887"
            ],
            [
             0.1111111111111111,
             "#46039f"
            ],
            [
             0.2222222222222222,
             "#7201a8"
            ],
            [
             0.3333333333333333,
             "#9c179e"
            ],
            [
             0.4444444444444444,
             "#bd3786"
            ],
            [
             0.5555555555555556,
             "#d8576b"
            ],
            [
             0.6666666666666666,
             "#ed7953"
            ],
            [
             0.7777777777777778,
             "#fb9f3a"
            ],
            [
             0.8888888888888888,
             "#fdca26"
            ],
            [
             1,
             "#f0f921"
            ]
           ]
          },
          "colorway": [
           "#636efa",
           "#EF553B",
           "#00cc96",
           "#ab63fa",
           "#FFA15A",
           "#19d3f3",
           "#FF6692",
           "#B6E880",
           "#FF97FF",
           "#FECB52"
          ],
          "font": {
           "color": "#2a3f5f"
          },
          "geo": {
           "bgcolor": "white",
           "lakecolor": "white",
           "landcolor": "#E5ECF6",
           "showlakes": true,
           "showland": true,
           "subunitcolor": "white"
          },
          "hoverlabel": {
           "align": "left"
          },
          "hovermode": "closest",
          "mapbox": {
           "style": "light"
          },
          "paper_bgcolor": "white",
          "plot_bgcolor": "#E5ECF6",
          "polar": {
           "angularaxis": {
            "gridcolor": "white",
            "linecolor": "white",
            "ticks": ""
           },
           "bgcolor": "#E5ECF6",
           "radialaxis": {
            "gridcolor": "white",
            "linecolor": "white",
            "ticks": ""
           }
          },
          "scene": {
           "xaxis": {
            "backgroundcolor": "#E5ECF6",
            "gridcolor": "white",
            "gridwidth": 2,
            "linecolor": "white",
            "showbackground": true,
            "ticks": "",
            "zerolinecolor": "white"
           },
           "yaxis": {
            "backgroundcolor": "#E5ECF6",
            "gridcolor": "white",
            "gridwidth": 2,
            "linecolor": "white",
            "showbackground": true,
            "ticks": "",
            "zerolinecolor": "white"
           },
           "zaxis": {
            "backgroundcolor": "#E5ECF6",
            "gridcolor": "white",
            "gridwidth": 2,
            "linecolor": "white",
            "showbackground": true,
            "ticks": "",
            "zerolinecolor": "white"
           }
          },
          "shapedefaults": {
           "line": {
            "color": "#2a3f5f"
           }
          },
          "ternary": {
           "aaxis": {
            "gridcolor": "white",
            "linecolor": "white",
            "ticks": ""
           },
           "baxis": {
            "gridcolor": "white",
            "linecolor": "white",
            "ticks": ""
           },
           "bgcolor": "#E5ECF6",
           "caxis": {
            "gridcolor": "white",
            "linecolor": "white",
            "ticks": ""
           }
          },
          "title": {
           "x": 0.05
          },
          "xaxis": {
           "automargin": true,
           "gridcolor": "white",
           "linecolor": "white",
           "ticks": "",
           "title": {
            "standoff": 15
           },
           "zerolinecolor": "white",
           "zerolinewidth": 2
          },
          "yaxis": {
           "automargin": true,
           "gridcolor": "white",
           "linecolor": "white",
           "ticks": "",
           "title": {
            "standoff": 15
           },
           "zerolinecolor": "white",
           "zerolinewidth": 2
          }
         }
        }
       }
      },
      "text/html": [
       "<div>\n",
       "        \n",
       "        \n",
       "            <div id=\"dab8a566-0cff-4d99-bd92-50e6e9db8127\" class=\"plotly-graph-div\" style=\"height:525px; width:100%;\"></div>\n",
       "            <script type=\"text/javascript\">\n",
       "                require([\"plotly\"], function(Plotly) {\n",
       "                    window.PLOTLYENV=window.PLOTLYENV || {};\n",
       "                    \n",
       "                if (document.getElementById(\"dab8a566-0cff-4d99-bd92-50e6e9db8127\")) {\n",
       "                    Plotly.newPlot(\n",
       "                        'dab8a566-0cff-4d99-bd92-50e6e9db8127',\n",
       "                        [{\"mode\": \"markers\", \"name\": \"markers\", \"type\": \"scatter\", \"x\": [200.0, 199.3, 193.6, 167.7, 183.9, 182.5, 166.1, 160.7, 162.9, 166.4, 163.0, 156.1, 157.6, 154.4, 150.8, 144.6, 142.7, 144.0, 143.5, 123.1, 113.9, 114.9, 101.4, 105.7, 106.9, 127.0, 129.8, 136.3, 106.7, 103.4, 89.7, 10.8, 26.4, 11.0, 5.1, 10.1, 18.9, 28.4, 41.1, 41.2, 33.9, 40.8, 49.7, 6.7, 11.6, 17.2, 19.4, 26.9, 39.6, 38.0, 19.1, 32.1, 28.4, 3.8, 8.5, 11.2, 22.4, 23.8, 24.9, 9.0, 10.4, 30.9, 48.9, 49.5, 46.3, 44.1, 48.5, 45.9, 44.2, 37.0, 36.3, 36.7, 35.3, 33.5, 29.3, 22.4, 17.1, 27.3, 27.9, 48.4, 43.6, 39.0, 14.9, 6.1, 10.7, 22.2, 32.7, 0.9, 93.5, 85.1, 92.8, 91.3, 95.9, 93.4, 89.6, 99.5, 100.6, 103.5, 104.7, 104.0, 104.2, 105.0, 111.8, 112.4, 110.0, 120.4, 109.4, 109.7, 113.3, 118.0, 126.5, 125.1, 114.2, 110.6, 147.3, 146.7, 148.1, 138.2, 135.7, 134.9, 98.0, 93.5, 82.3, 79.2, 84.2, 88.8, 82.5, 75.6, 72.9, 79.1, 50.0, 59.9, 60.5, 60.2, 66.5, 70.4, 70.7, 71.7, 179.5, 186.1, 178.3, 178.6, 186.2, 185.2, 185.5, 185.8, 186.5, 176.7, 177.7, 184.0, 11.0, 17.5, 4.3, 5.9, 1.9, 1.8, 1.1, 2.4, 4.6, 3.1, 3.9, 4.1, 7.9, 14.8, 9.4, 15.9, 16.6, 18.2, 174.1, 173.0, 174.0, 177.3, 177.6, 195.7, 197.0, 178.2, 173.8, 172.8, 162.7, 164.6, 80.4, 71.0, 73.0, 56.7, 66.5, 67.0, 62.9, 61.8, 51.9, 60.9, 61.0, 61.7, 57.3, 54.2, 76.1, 67.2, 81.9, 90.1, 135.3, 135.0, 136.2, 129.7, 134.8, 136.9, 137.0, 128.9, 127.5, 127.6, 129.7, 126.6, 133.4, 129.9, 126.5, 129.1, 134.4, 130.7, 130.9, 132.0, 136.8, 137.7, 157.8, 187.1, 190.6, 185.4, 186.6, 185.9, 184.3, 188.2, 104.4, 104.9, 101.5, 102.4, 123.4, 123.8, 127.0, 109.6, 112.4, 133.1, 139.4, 140.4, 184.1, 183.5, 183.0, 176.1, 175.6, 173.8, 164.9, 163.0, 163.2, 162.4, 161.5, 162.2, 161.0, 157.7, 154.9, 154.6, 152.9, 153.2, 168.2, 151.6, 151.4, 157.6, 149.4, 149.4, 167.3, 157.4, 181.5, 196.5, 189.9, 155.1, 154.5, 162.9, 158.4, 153.9, 156.1, 156.5, 156.8, 159.0, 161.0, 161.3, 160.6, 161.3, 159.7, 161.7, 161.1, 160.1, 159.0, 160.0, 160.2, 159.1, 154.7, 151.9, 151.3, 151.0, 150.4, 149.6, 146.2, 146.1, 144.4, 143.3, 140.6, 143.2, 127.1, 120.7, 115.3, 134.1, 134.6, 135.6, 128.9, 116.3, 104.3, 111.5, 100.5, 100.0, 100.8, 100.9, 100.3, 101.5, 99.3, 99.2, 102.0, 105.4, 103.6, 103.9, 102.6, 102.0, 102.1, 103.5, 102.9, 105.7, 106.6, 108.5, 105.2, 139.7, 145.5, 146.4, 105.8, 96.7, 66.5, 55.7, 54.7, 57.1, 61.7, 60.1, 77.7, 67.2, 80.7, 85.1, 94.7, 81.2, 81.9, 83.8, 84.8, 82.9, 82.1, 84.3, 96.7, 92.0, 96.1, 78.5, 78.7, 59.5, 56.5, 64.3, 152.7, 155.8, 161.2, 161.0, 162.1, 166.2, 168.7, 169.3, 57.9, 57.5, 57.3, 56.0, 53.4, 53.1, 54.0, 54.5, 53.3, 52.1, 48.0, 44.2, 39.4, 42.7, 38.1, 37.1, 37.6, 31.2, 40.1, 29.3, 23.8, 141.0, 140.1, 140.9, 135.0, 139.3, 142.0, 140.4, 138.5, 28.7, 33.7, 23.1, 11.3, 18.2, 21.5, 15.9, 15.4, 14.0, 6.8, 6.0, 1.6, 43.6, 39.4, 37.1, 23.7, 21.5, 27.7, 32.3, 32.6, 37.7, 107.5, 107.9, 116.5, 114.5, 115.3, 115.3, 119.0, 119.4, 94.7, 89.3, 90.8, 95.3, 90.9, 90.2, 90.2, 90.6, 93.0, 78.4, 76.2, 75.8, 75.7, 82.7, 76.7, 74.7, 119.4, 74.2, 73.9, 81.7, 79.5, 56.8, 62.2, 58.2, 54.1, 59.5, 58.6, 58.8, 57.9, 153.5, 155.9, 160.4, 171.3, 182.8, 182.5, 176.3, 161.9, 199.5, 197.6, 196.3, 195.7, 196.2, 196.3, 193.7, 191.7, 194.5, 192.7, 188.9, 190.1, 186.9, 26.9, 17.9, 34.4, 31.9, 20.6, 14.1, 2.9, 6.4, 2.2, 11.7, 14.2, 15.6, 13.6, 11.1, 7.2, 12.2, 23.0, 30.2, 27.7, 3.4, 15.4, 16.7, 24.3, 0.4, 0.0, 7.9, 33.2, 36.6, 42.2, 24.5, 40.4, 41.0, 43.9, 44.7, 45.6, 47.5, 51.2, 55.0, 58.0, 54.6, 58.9, 63.9, 64.3, 65.6, 61.0, 63.1, 86.1, 65.8, 90.0, 94.3, 91.9, 86.5, 87.5, 93.9, 92.4, 81.8, 99.0, 94.1, 95.4, 97.1, 79.2, 61.6, 70.3, 79.8, 110.1, 116.1, 114.0, 103.2, 112.3, 110.4, 110.6, 107.0, 105.6, 104.0, 104.0, 103.7, 108.6, 105.7, 102.8, 101.5, 100.4, 144.1, 138.3, 142.7, 118.8, 142.3, 143.8, 145.3, 151.2, 153.7, 186.9, 181.2, 181.1, 177.2, 182.8, 180.0, 189.1, 196.9, 171.4, 169.1, 162.5, 156.7, 154.1, 87.7], \"y\": [8.8, 10.0, 22.4, 35.6, 45.4, 47.2, 48.8, 42.1, 29.0, 33.6, 35.8, 38.7, 42.8, 36.2, 45.8, 25.4, 25.4, 28.3, 36.9, 14.3, 13.1, 8.1, 9.3, 9.1, 14.7, 29.7, 45.8, 44.2, 49.4, 49.6, 10.8, 0.0, 5.4, 5.5, 3.9, 8.5, 11.3, 11.0, 9.2, 12.6, 21.4, 39.8, 18.2, 46.9, 46.9, 47.9, 50.0, 47.9, 47.9, 50.7, 45.2, 35.0, 35.5, 44.8, 43.4, 40.2, 34.3, 33.3, 29.8, 38.9, 61.2, 52.2, 67.8, 73.8, 80.9, 78.0, 94.8, 90.4, 84.0, 64.3, 67.7, 71.5, 78.3, 81.6, 83.8, 84.1, 84.7, 89.4, 90.6, 99.5, 98.4, 97.3, 91.2, 96.2, 98.6, 100.0, 99.1, 100.0, 96.2, 90.6, 61.5, 69.5, 59.7, 71.5, 86.3, 78.9, 53.1, 72.1, 74.0, 67.1, 64.7, 59.8, 73.2, 69.8, 65.9, 79.2, 62.5, 62.9, 60.4, 69.3, 69.2, 68.2, 54.6, 51.5, 73.8, 73.0, 86.2, 73.4, 70.7, 72.7, 27.7, 28.7, 16.8, 25.3, 29.0, 35.1, 36.3, 28.1, 36.2, 43.6, 48.8, 34.4, 13.0, 11.4, 15.9, 6.6, 2.2, 1.9, 92.6, 91.0, 92.4, 91.8, 90.3, 89.9, 89.8, 89.1, 88.8, 92.3, 91.5, 89.0, 34.4, 21.9, 31.3, 8.1, 68.5, 71.0, 82.5, 95.3, 94.0, 79.5, 72.1, 70.9, 68.7, 81.8, 67.7, 78.7, 78.8, 80.3, 135.6, 127.4, 125.7, 121.0, 120.3, 144.1, 142.5, 112.6, 112.7, 124.4, 114.6, 120.9, 90.7, 88.8, 85.6, 95.3, 86.2, 84.7, 87.9, 89.0, 94.5, 71.6, 69.8, 66.2, 68.4, 76.3, 52.9, 57.6, 58.5, 59.6, 126.6, 124.0, 122.1, 127.0, 120.2, 116.8, 116.0, 124.2, 125.0, 121.7, 119.0, 121.1, 77.1, 76.1, 77.3, 83.1, 87.0, 90.1, 90.7, 94.5, 96.7, 98.0, 99.0, 98.1, 92.1, 93.1, 92.2, 91.7, 92.1, 91.2, 145.1, 145.0, 148.4, 148.7, 128.9, 135.1, 133.8, 145.9, 145.0, 144.8, 143.1, 143.6, 88.2, 88.5, 88.0, 91.0, 90.2, 89.9, 93.7, 95.3, 94.1, 94.5, 94.9, 94.3, 94.7, 95.7, 96.2, 92.7, 93.7, 93.2, 73.0, 93.0, 93.4, 67.2, 63.0, 64.3, 54.6, 51.5, 66.1, 55.2, 85.2, 149.2, 148.4, 119.9, 113.4, 108.3, 116.0, 118.9, 122.3, 126.1, 131.9, 132.8, 132.6, 134.9, 129.8, 136.1, 136.4, 133.0, 133.6, 134.8, 135.5, 136.5, 126.8, 127.5, 124.7, 127.3, 123.0, 124.6, 127.1, 127.4, 131.8, 131.5, 137.7, 125.4, 119.9, 115.6, 112.6, 105.2, 104.1, 103.3, 102.6, 106.5, 104.0, 100.0, 149.7, 145.5, 145.0, 143.5, 140.8, 120.8, 110.6, 106.0, 137.1, 115.7, 134.2, 139.4, 141.6, 143.3, 144.4, 141.3, 143.8, 138.2, 135.1, 133.2, 142.3, 145.8, 148.4, 148.4, 149.8, 149.1, 150.0, 148.5, 146.8, 144.0, 145.3, 143.7, 144.8, 139.3, 133.2, 133.5, 143.7, 125.0, 123.2, 123.1, 121.4, 119.2, 116.4, 114.8, 142.6, 109.0, 146.6, 102.5, 103.0, 107.4, 105.5, 132.1, 146.7, 145.4, 138.1, 138.1, 136.9, 132.0, 133.4, 133.7, 140.7, 142.3, 141.7, 137.7, 139.3, 136.0, 137.7, 136.7, 137.8, 139.3, 114.4, 129.6, 136.8, 124.0, 134.4, 131.9, 125.4, 127.9, 112.2, 118.6, 114.5, 127.8, 127.3, 121.4, 132.3, 122.9, 117.2, 117.2, 121.5, 158.8, 162.3, 160.8, 158.9, 168.2, 172.3, 168.3, 172.8, 174.2, 179.6, 184.1, 194.9, 197.3, 195.5, 196.1, 193.9, 187.9, 188.7, 178.9, 168.6, 176.9, 138.5, 139.5, 122.6, 127.7, 127.4, 128.1, 127.4, 127.7, 179.8, 185.0, 174.0, 158.4, 162.1, 161.7, 162.1, 160.8, 158.0, 172.4, 171.4, 171.0, 169.7, 163.5, 166.3, 167.1, 170.8, 164.3, 162.7, 156.7, 156.3, 116.0, 137.7, 125.1, 115.5, 138.1, 140.3, 141.5, 137.3, 159.9, 183.7, 176.6, 185.1, 187.4, 196.0, 197.7, 199.4, 179.4, 176.9, 192.4, 180.5, 177.1, 176.0, 185.8, 189.2, 173.8, 177.3, 182.1, 174.4, 179.4, 111.3, 111.0, 104.2, 103.2, 101.5, 103.1, 122.8, 125.9, 142.2, 116.2, 116.5, 118.1, 127.4, 134.8, 141.7, 140.1, 132.7, 133.9, 136.5, 148.8, 145.6, 146.4, 145.7, 175.2, 177.5, 151.0, 151.2, 150.6, 153.7, 153.4, 179.3, 176.6, 182.2, 184.6, 175.2, 175.9, 177.9, 159.3, 180.3, 188.7, 180.0, 178.6, 178.9, 179.3, 184.9, 183.3, 186.9, 194.9, 195.1, 196.1, 197.1, 197.4, 199.3, 199.2, 199.3, 198.9, 158.1, 187.2, 182.9, 168.4, 155.6, 158.2, 153.1, 151.8, 150.4, 156.8, 165.1, 154.4, 167.0, 167.3, 166.4, 165.0, 160.6, 162.4, 166.1, 167.2, 182.1, 182.6, 169.7, 171.8, 170.5, 199.0, 197.9, 197.2, 188.0, 173.3, 156.0, 155.6, 192.2, 176.5, 174.7, 176.9, 176.1, 174.5, 162.9, 160.2, 156.3, 151.4, 161.6, 160.0, 157.3, 155.3, 150.8, 200.0]}],\n",
       "                        {\"template\": {\"data\": {\"bar\": [{\"error_x\": {\"color\": \"#2a3f5f\"}, \"error_y\": {\"color\": \"#2a3f5f\"}, \"marker\": {\"line\": {\"color\": \"#E5ECF6\", \"width\": 0.5}}, \"type\": \"bar\"}], \"barpolar\": [{\"marker\": {\"line\": {\"color\": \"#E5ECF6\", \"width\": 0.5}}, \"type\": \"barpolar\"}], \"carpet\": [{\"aaxis\": {\"endlinecolor\": \"#2a3f5f\", \"gridcolor\": \"white\", \"linecolor\": \"white\", \"minorgridcolor\": \"white\", \"startlinecolor\": \"#2a3f5f\"}, \"baxis\": {\"endlinecolor\": \"#2a3f5f\", \"gridcolor\": \"white\", \"linecolor\": \"white\", \"minorgridcolor\": \"white\", \"startlinecolor\": \"#2a3f5f\"}, \"type\": \"carpet\"}], \"choropleth\": [{\"colorbar\": {\"outlinewidth\": 0, \"ticks\": \"\"}, \"type\": \"choropleth\"}], \"contour\": [{\"colorbar\": {\"outlinewidth\": 0, \"ticks\": \"\"}, \"colorscale\": [[0.0, \"#0d0887\"], [0.1111111111111111, \"#46039f\"], [0.2222222222222222, \"#7201a8\"], [0.3333333333333333, \"#9c179e\"], [0.4444444444444444, \"#bd3786\"], [0.5555555555555556, \"#d8576b\"], [0.6666666666666666, \"#ed7953\"], [0.7777777777777778, \"#fb9f3a\"], [0.8888888888888888, \"#fdca26\"], [1.0, \"#f0f921\"]], \"type\": \"contour\"}], \"contourcarpet\": [{\"colorbar\": {\"outlinewidth\": 0, \"ticks\": \"\"}, \"type\": \"contourcarpet\"}], \"heatmap\": [{\"colorbar\": {\"outlinewidth\": 0, \"ticks\": \"\"}, \"colorscale\": [[0.0, \"#0d0887\"], [0.1111111111111111, \"#46039f\"], [0.2222222222222222, \"#7201a8\"], [0.3333333333333333, \"#9c179e\"], [0.4444444444444444, \"#bd3786\"], [0.5555555555555556, \"#d8576b\"], [0.6666666666666666, \"#ed7953\"], [0.7777777777777778, \"#fb9f3a\"], [0.8888888888888888, \"#fdca26\"], [1.0, \"#f0f921\"]], \"type\": \"heatmap\"}], \"heatmapgl\": [{\"colorbar\": {\"outlinewidth\": 0, \"ticks\": \"\"}, \"colorscale\": [[0.0, \"#0d0887\"], [0.1111111111111111, \"#46039f\"], [0.2222222222222222, \"#7201a8\"], [0.3333333333333333, \"#9c179e\"], [0.4444444444444444, \"#bd3786\"], [0.5555555555555556, \"#d8576b\"], [0.6666666666666666, \"#ed7953\"], [0.7777777777777778, \"#fb9f3a\"], [0.8888888888888888, \"#fdca26\"], [1.0, \"#f0f921\"]], \"type\": \"heatmapgl\"}], \"histogram\": [{\"marker\": {\"colorbar\": {\"outlinewidth\": 0, \"ticks\": \"\"}}, \"type\": \"histogram\"}], \"histogram2d\": [{\"colorbar\": {\"outlinewidth\": 0, \"ticks\": \"\"}, \"colorscale\": [[0.0, \"#0d0887\"], [0.1111111111111111, \"#46039f\"], [0.2222222222222222, \"#7201a8\"], [0.3333333333333333, \"#9c179e\"], [0.4444444444444444, \"#bd3786\"], [0.5555555555555556, \"#d8576b\"], [0.6666666666666666, \"#ed7953\"], [0.7777777777777778, \"#fb9f3a\"], [0.8888888888888888, \"#fdca26\"], [1.0, \"#f0f921\"]], \"type\": \"histogram2d\"}], \"histogram2dcontour\": [{\"colorbar\": {\"outlinewidth\": 0, \"ticks\": \"\"}, \"colorscale\": [[0.0, \"#0d0887\"], [0.1111111111111111, \"#46039f\"], [0.2222222222222222, \"#7201a8\"], [0.3333333333333333, \"#9c179e\"], [0.4444444444444444, \"#bd3786\"], [0.5555555555555556, \"#d8576b\"], [0.6666666666666666, \"#ed7953\"], [0.7777777777777778, \"#fb9f3a\"], [0.8888888888888888, \"#fdca26\"], [1.0, \"#f0f921\"]], \"type\": \"histogram2dcontour\"}], \"mesh3d\": [{\"colorbar\": {\"outlinewidth\": 0, \"ticks\": \"\"}, \"type\": \"mesh3d\"}], \"parcoords\": [{\"line\": {\"colorbar\": {\"outlinewidth\": 0, \"ticks\": \"\"}}, \"type\": \"parcoords\"}], \"pie\": [{\"automargin\": true, \"type\": \"pie\"}], \"scatter\": [{\"marker\": {\"colorbar\": {\"outlinewidth\": 0, \"ticks\": \"\"}}, \"type\": \"scatter\"}], \"scatter3d\": [{\"line\": {\"colorbar\": {\"outlinewidth\": 0, \"ticks\": \"\"}}, \"marker\": {\"colorbar\": {\"outlinewidth\": 0, \"ticks\": \"\"}}, \"type\": \"scatter3d\"}], \"scattercarpet\": [{\"marker\": {\"colorbar\": {\"outlinewidth\": 0, \"ticks\": \"\"}}, \"type\": \"scattercarpet\"}], \"scattergeo\": [{\"marker\": {\"colorbar\": {\"outlinewidth\": 0, \"ticks\": \"\"}}, \"type\": \"scattergeo\"}], \"scattergl\": [{\"marker\": {\"colorbar\": {\"outlinewidth\": 0, \"ticks\": \"\"}}, \"type\": \"scattergl\"}], \"scattermapbox\": [{\"marker\": {\"colorbar\": {\"outlinewidth\": 0, \"ticks\": \"\"}}, \"type\": \"scattermapbox\"}], \"scatterpolar\": [{\"marker\": {\"colorbar\": {\"outlinewidth\": 0, \"ticks\": \"\"}}, \"type\": \"scatterpolar\"}], \"scatterpolargl\": [{\"marker\": {\"colorbar\": {\"outlinewidth\": 0, \"ticks\": \"\"}}, \"type\": \"scatterpolargl\"}], \"scatterternary\": [{\"marker\": {\"colorbar\": {\"outlinewidth\": 0, \"ticks\": \"\"}}, \"type\": \"scatterternary\"}], \"surface\": [{\"colorbar\": {\"outlinewidth\": 0, \"ticks\": \"\"}, \"colorscale\": [[0.0, \"#0d0887\"], [0.1111111111111111, \"#46039f\"], [0.2222222222222222, \"#7201a8\"], [0.3333333333333333, \"#9c179e\"], [0.4444444444444444, \"#bd3786\"], [0.5555555555555556, \"#d8576b\"], [0.6666666666666666, \"#ed7953\"], [0.7777777777777778, \"#fb9f3a\"], [0.8888888888888888, \"#fdca26\"], [1.0, \"#f0f921\"]], \"type\": \"surface\"}], \"table\": [{\"cells\": {\"fill\": {\"color\": \"#EBF0F8\"}, \"line\": {\"color\": \"white\"}}, \"header\": {\"fill\": {\"color\": \"#C8D4E3\"}, \"line\": {\"color\": \"white\"}}, \"type\": \"table\"}]}, \"layout\": {\"annotationdefaults\": {\"arrowcolor\": \"#2a3f5f\", \"arrowhead\": 0, \"arrowwidth\": 1}, \"coloraxis\": {\"colorbar\": {\"outlinewidth\": 0, \"ticks\": \"\"}}, \"colorscale\": {\"diverging\": [[0, \"#8e0152\"], [0.1, \"#c51b7d\"], [0.2, \"#de77ae\"], [0.3, \"#f1b6da\"], [0.4, \"#fde0ef\"], [0.5, \"#f7f7f7\"], [0.6, \"#e6f5d0\"], [0.7, \"#b8e186\"], [0.8, \"#7fbc41\"], [0.9, \"#4d9221\"], [1, \"#276419\"]], \"sequential\": [[0.0, \"#0d0887\"], [0.1111111111111111, \"#46039f\"], [0.2222222222222222, \"#7201a8\"], [0.3333333333333333, \"#9c179e\"], [0.4444444444444444, \"#bd3786\"], [0.5555555555555556, \"#d8576b\"], [0.6666666666666666, \"#ed7953\"], [0.7777777777777778, \"#fb9f3a\"], [0.8888888888888888, \"#fdca26\"], [1.0, \"#f0f921\"]], \"sequentialminus\": [[0.0, \"#0d0887\"], [0.1111111111111111, \"#46039f\"], [0.2222222222222222, \"#7201a8\"], [0.3333333333333333, \"#9c179e\"], [0.4444444444444444, \"#bd3786\"], [0.5555555555555556, \"#d8576b\"], [0.6666666666666666, \"#ed7953\"], [0.7777777777777778, \"#fb9f3a\"], [0.8888888888888888, \"#fdca26\"], [1.0, \"#f0f921\"]]}, \"colorway\": [\"#636efa\", \"#EF553B\", \"#00cc96\", \"#ab63fa\", \"#FFA15A\", \"#19d3f3\", \"#FF6692\", \"#B6E880\", \"#FF97FF\", \"#FECB52\"], \"font\": {\"color\": \"#2a3f5f\"}, \"geo\": {\"bgcolor\": \"white\", \"lakecolor\": \"white\", \"landcolor\": \"#E5ECF6\", \"showlakes\": true, \"showland\": true, \"subunitcolor\": \"white\"}, \"hoverlabel\": {\"align\": \"left\"}, \"hovermode\": \"closest\", \"mapbox\": {\"style\": \"light\"}, \"paper_bgcolor\": \"white\", \"plot_bgcolor\": \"#E5ECF6\", \"polar\": {\"angularaxis\": {\"gridcolor\": \"white\", \"linecolor\": \"white\", \"ticks\": \"\"}, \"bgcolor\": \"#E5ECF6\", \"radialaxis\": {\"gridcolor\": \"white\", \"linecolor\": \"white\", \"ticks\": \"\"}}, \"scene\": {\"xaxis\": {\"backgroundcolor\": \"#E5ECF6\", \"gridcolor\": \"white\", \"gridwidth\": 2, \"linecolor\": \"white\", \"showbackground\": true, \"ticks\": \"\", \"zerolinecolor\": \"white\"}, \"yaxis\": {\"backgroundcolor\": \"#E5ECF6\", \"gridcolor\": \"white\", \"gridwidth\": 2, \"linecolor\": \"white\", \"showbackground\": true, \"ticks\": \"\", \"zerolinecolor\": \"white\"}, \"zaxis\": {\"backgroundcolor\": \"#E5ECF6\", \"gridcolor\": \"white\", \"gridwidth\": 2, \"linecolor\": \"white\", \"showbackground\": true, \"ticks\": \"\", \"zerolinecolor\": \"white\"}}, \"shapedefaults\": {\"line\": {\"color\": \"#2a3f5f\"}}, \"ternary\": {\"aaxis\": {\"gridcolor\": \"white\", \"linecolor\": \"white\", \"ticks\": \"\"}, \"baxis\": {\"gridcolor\": \"white\", \"linecolor\": \"white\", \"ticks\": \"\"}, \"bgcolor\": \"#E5ECF6\", \"caxis\": {\"gridcolor\": \"white\", \"linecolor\": \"white\", \"ticks\": \"\"}}, \"title\": {\"x\": 0.05}, \"xaxis\": {\"automargin\": true, \"gridcolor\": \"white\", \"linecolor\": \"white\", \"ticks\": \"\", \"title\": {\"standoff\": 15}, \"zerolinecolor\": \"white\", \"zerolinewidth\": 2}, \"yaxis\": {\"automargin\": true, \"gridcolor\": \"white\", \"linecolor\": \"white\", \"ticks\": \"\", \"title\": {\"standoff\": 15}, \"zerolinecolor\": \"white\", \"zerolinewidth\": 2}}}},\n",
       "                        {\"responsive\": true}\n",
       "                    ).then(function(){\n",
       "                            \n",
       "var gd = document.getElementById('dab8a566-0cff-4d99-bd92-50e6e9db8127');\n",
       "var x = new MutationObserver(function (mutations, observer) {{\n",
       "        var display = window.getComputedStyle(gd).display;\n",
       "        if (!display || display === 'none') {{\n",
       "            console.log([gd, 'removed!']);\n",
       "            Plotly.purge(gd);\n",
       "            observer.disconnect();\n",
       "        }}\n",
       "}});\n",
       "\n",
       "// Listen for the removal of the full notebook cells\n",
       "var notebookContainer = gd.closest('#notebook-container');\n",
       "if (notebookContainer) {{\n",
       "    x.observe(notebookContainer, {childList: true});\n",
       "}}\n",
       "\n",
       "// Listen for the clearing of the current output cell\n",
       "var outputEl = gd.closest('.output');\n",
       "if (outputEl) {{\n",
       "    x.observe(outputEl, {childList: true});\n",
       "}}\n",
       "\n",
       "                        })\n",
       "                };\n",
       "                });\n",
       "            </script>\n",
       "        </div>"
      ]
     },
     "metadata": {},
     "output_type": "display_data"
    }
   ],
   "source": [
    "fig = go.Figure()\n",
    "fig.add_trace(go.Scatter(x=df['sn'], y=df['we'], mode='markers', name='markers'))\n",
    "fig.show()"
   ]
  },
  {
   "cell_type": "code",
   "execution_count": 41,
   "metadata": {},
   "outputs": [],
   "source": [
    "from scipy import stats\n",
    "binx = [0.0, 40.0, 80.0, 120.0, 160., 200.]\n",
    "biny = [0.0, 40.0, 80.0, 120.0, 160., 200.]\n",
    "ret = stats.binned_statistic_2d(df['sn'].values, df['we'].values, df['sn'].values, 'count', bins=[binx,biny])"
   ]
  },
  {
   "cell_type": "code",
   "execution_count": 46,
   "metadata": {},
   "outputs": [
    {
     "data": {
      "text/plain": [
       "array([[18., 26., 29., 25., 20.],\n",
       "       [14., 12., 22., 34., 25.],\n",
       "       [12., 24., 15., 50., 37.],\n",
       "       [ 8., 19., 31., 50.,  7.],\n",
       "       [ 7.,  8., 37., 27., 27.]])"
      ]
     },
     "execution_count": 46,
     "metadata": {},
     "output_type": "execute_result"
    }
   ],
   "source": [
    "stat = ret.statistic\n",
    "stat"
   ]
  },
  {
   "cell_type": "code",
   "execution_count": 48,
   "metadata": {},
   "outputs": [
    {
     "data": {
      "text/plain": [
       "23.36"
      ]
     },
     "execution_count": 48,
     "metadata": {},
     "output_type": "execute_result"
    }
   ],
   "source": [
    "mean = ret.statistic.mean()\n",
    "mean"
   ]
  },
  {
   "cell_type": "code",
   "execution_count": 53,
   "metadata": {},
   "outputs": [
    {
     "data": {
      "text/plain": [
       "150.58904109589042"
      ]
     },
     "execution_count": 53,
     "metadata": {},
     "output_type": "execute_result"
    }
   ],
   "source": [
    "xi_2 = ((stat-mean)**2/float(mean)).sum()\n",
    "xi_2"
   ]
  },
  {
   "cell_type": "code",
   "execution_count": 56,
   "metadata": {},
   "outputs": [],
   "source": [
    "mean_mas = np.ones(shape=(5,5))*mean"
   ]
  },
  {
   "cell_type": "code",
   "execution_count": 60,
   "metadata": {},
   "outputs": [
    {
     "data": {
      "text/plain": [
       "Power_divergenceResult(statistic=150.58904109589042, pvalue=2.574669774967279e-20)"
      ]
     },
     "execution_count": 60,
     "metadata": {},
     "output_type": "execute_result"
    }
   ],
   "source": [
    "from scipy.stats import chisquare\n",
    "xi_2_f = chisquare(stat.reshape(25),mean_mas.reshape(25), ddof=0)\n",
    "xi_2_f"
   ]
  },
  {
   "cell_type": "code",
   "execution_count": null,
   "metadata": {},
   "outputs": [],
   "source": []
  }
 ],
 "metadata": {
  "kernelspec": {
   "display_name": "Python 2",
   "language": "python",
   "name": "python2"
  },
  "language_info": {
   "codemirror_mode": {
    "name": "ipython",
    "version": 2
   },
   "file_extension": ".py",
   "mimetype": "text/x-python",
   "name": "python",
   "nbconvert_exporter": "python",
   "pygments_lexer": "ipython2",
   "version": "2.7.16"
  }
 },
 "nbformat": 4,
 "nbformat_minor": 2
}
