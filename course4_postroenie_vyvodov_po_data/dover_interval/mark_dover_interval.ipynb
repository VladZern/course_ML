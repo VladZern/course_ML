{
 "cells": [
  {
   "cell_type": "code",
   "execution_count": 1,
   "metadata": {},
   "outputs": [],
   "source": [
    "import numpy as np\n",
    "import pandas as pd"
   ]
  },
  {
   "cell_type": "code",
   "execution_count": 10,
   "metadata": {},
   "outputs": [
    {
     "data": {
      "text/html": [
       "<div>\n",
       "<style scoped>\n",
       "    .dataframe tbody tr th:only-of-type {\n",
       "        vertical-align: middle;\n",
       "    }\n",
       "\n",
       "    .dataframe tbody tr th {\n",
       "        vertical-align: top;\n",
       "    }\n",
       "\n",
       "    .dataframe thead th {\n",
       "        text-align: right;\n",
       "    }\n",
       "</style>\n",
       "<table border=\"1\" class=\"dataframe\">\n",
       "  <thead>\n",
       "    <tr style=\"text-align: right;\">\n",
       "      <th></th>\n",
       "      <th>location</th>\n",
       "      <th>town</th>\n",
       "      <th>mortality</th>\n",
       "      <th>hardness</th>\n",
       "    </tr>\n",
       "  </thead>\n",
       "  <tbody>\n",
       "    <tr>\n",
       "      <th>0</th>\n",
       "      <td>South</td>\n",
       "      <td>Bath</td>\n",
       "      <td>1247</td>\n",
       "      <td>105</td>\n",
       "    </tr>\n",
       "    <tr>\n",
       "      <th>1</th>\n",
       "      <td>North</td>\n",
       "      <td>Birkenhead</td>\n",
       "      <td>1668</td>\n",
       "      <td>17</td>\n",
       "    </tr>\n",
       "    <tr>\n",
       "      <th>2</th>\n",
       "      <td>South</td>\n",
       "      <td>Birmingham</td>\n",
       "      <td>1466</td>\n",
       "      <td>5</td>\n",
       "    </tr>\n",
       "    <tr>\n",
       "      <th>3</th>\n",
       "      <td>North</td>\n",
       "      <td>Blackburn</td>\n",
       "      <td>1800</td>\n",
       "      <td>14</td>\n",
       "    </tr>\n",
       "    <tr>\n",
       "      <th>4</th>\n",
       "      <td>North</td>\n",
       "      <td>Blackpool</td>\n",
       "      <td>1609</td>\n",
       "      <td>18</td>\n",
       "    </tr>\n",
       "  </tbody>\n",
       "</table>\n",
       "</div>"
      ],
      "text/plain": [
       "  location        town  mortality  hardness\n",
       "0    South        Bath       1247       105\n",
       "1    North  Birkenhead       1668        17\n",
       "2    South  Birmingham       1466         5\n",
       "3    North   Blackburn       1800        14\n",
       "4    North   Blackpool       1609        18"
      ]
     },
     "execution_count": 10,
     "metadata": {},
     "output_type": "execute_result"
    }
   ],
   "source": [
    "df = pd.read_csv('water.csv', sep='\\t')\n",
    "df.head()"
   ]
  },
  {
   "cell_type": "code",
   "execution_count": 28,
   "metadata": {},
   "outputs": [
    {
     "name": "stdout",
     "output_type": "stream",
     "text": [
      "1476.0904975550502 <= X <= 1572.204584412163\n",
      "(1476.0833413552848, 1572.2117406119285)\n"
     ]
    }
   ],
   "source": [
    "x_mean = df['mortality'].mean()\n",
    "disp = df['mortality'].std(ddof=1)\n",
    "p_min = x_mean - 2*disp/np.sqrt(len(df['mortality']))\n",
    "p_max = x_mean + 2*disp/np.sqrt(len(df['mortality']))\n",
    "print p_min, \"<= X <=\", p_max\n",
    "print _tconfint_generic(df.mortality.mean(), df.mortality.std(ddof=1) / np.sqrt(len(df)), len(df) - 1, 0.05, 'two-sided')"
   ]
  },
  {
   "cell_type": "code",
   "execution_count": 27,
   "metadata": {},
   "outputs": [
    {
     "name": "stdout",
     "output_type": "stream",
     "text": [
      "1321.7895952312108 <= X <= 1431.825789384174\n",
      "(1320.1517462936238, 1433.463638321761)\n"
     ]
    }
   ],
   "source": [
    "x_mean_south = df[df['location']=='South']['mortality'].mean()\n",
    "disp_south = df[df['location']=='South']['mortality'].std(ddof=1)\n",
    "p_min_south = x_mean_south - 2*disp_south/np.sqrt(len(df[df['location']=='South']['mortality']))\n",
    "p_max_south = x_mean_south + 2*disp_south/np.sqrt(len(df[df['location']=='South']['mortality']))\n",
    "print p_min_south, \"<= X <=\", p_max_south\n",
    "print _tconfint_generic(df[df.location == 'South'].mortality.mean(), df[df.location == 'South'].mortality.std(ddof=1) / np.sqrt(len(df[df.location == 'South'])), len(df[df.location == 'South']) - 1, 0.05, 'two-sided')"
   ]
  },
  {
   "cell_type": "code",
   "execution_count": 26,
   "metadata": {},
   "outputs": [
    {
     "name": "stdout",
     "output_type": "stream",
     "text": [
      "1587.3068747503676 <= X <= 1679.8931252496322\n",
      "(1586.5605251961385, 1680.6394748038613)\n"
     ]
    }
   ],
   "source": [
    "x_mean_North = df[df['location']=='North']['mortality'].mean()\n",
    "disp_North = df[df['location']=='North']['mortality'].std(ddof=1)\n",
    "p_min_North = x_mean_North - 2*disp_North/np.sqrt(len(df[df['location']=='North']['mortality']))\n",
    "p_max_North = x_mean_North + 2*disp_North/np.sqrt(len(df[df['location']=='North']['mortality']))\n",
    "print p_min_North, \"<= X <=\", p_max_North\n",
    "print _tconfint_generic(df[df.location == 'North'].mortality.mean(), df[df.location == 'North'].mortality.std(ddof=1) / np.sqrt(len(df[df.location == 'North'])), len(df[df.location == 'North']) - 1, 0.05, 'two-sided')"
   ]
  },
  {
   "cell_type": "code",
   "execution_count": 21,
   "metadata": {},
   "outputs": [
    {
     "name": "stdout",
     "output_type": "stream",
     "text": [
      "53.938469013980985 <= X <= 85.59999252448056\n"
     ]
    }
   ],
   "source": [
    "x_mean_south = df[df['location']=='South']['hardness'].mean()\n",
    "disp_south = df[df['location']=='South']['hardness'].std(ddof=1)\n",
    "p_min_south = x_mean_south - 2*disp_south/np.sqrt(len(df[df['location']=='South']['hardness']))\n",
    "p_max_south = x_mean_south + 2*disp_south/np.sqrt(len(df[df['location']=='South']['hardness']))\n",
    "print p_min_south, \"<= X <=\", p_max_south"
   ]
  },
  {
   "cell_type": "code",
   "execution_count": 22,
   "metadata": {},
   "outputs": [
    {
     "name": "stdout",
     "output_type": "stream",
     "text": [
      "21.56492855745026 <= X <= 39.23507144254974\n"
     ]
    }
   ],
   "source": [
    "x_mean_North = df[df['location']=='North']['hardness'].mean()\n",
    "disp_North = df[df['location']=='North']['hardness'].std(ddof=1)\n",
    "p_min_North = x_mean_North - 2*disp_North/np.sqrt(len(df[df['location']=='North']['hardness']))\n",
    "p_max_North = x_mean_North + 2*disp_North/np.sqrt(len(df[df['location']=='North']['hardness']))\n",
    "print p_min_North, \"<= X <=\", p_max_North"
   ]
  },
  {
   "cell_type": "code",
   "execution_count": 24,
   "metadata": {},
   "outputs": [
    {
     "name": "stdout",
     "output_type": "stream",
     "text": [
      "(53.467198692036106, 86.07126284642544)\n",
      "(21.42248728572426, 39.37751271427574)\n"
     ]
    }
   ],
   "source": [
    "from statsmodels.stats.weightstats import _zconfint_generic, _tconfint_generic\n",
    "print _tconfint_generic(df[df.location == 'South'].hardness.mean(), df[df.location == 'South'].hardness.std(ddof=1) / np.sqrt(len(df[df.location == 'South'])), len(df[df.location == 'South']) - 1, 0.05, 'two-sided')\n",
    "print _tconfint_generic(df[df.location == 'North'].hardness.mean(), df[df.location == 'North'].hardness.std(ddof=1) / np.sqrt(len(df[df.location == 'North'])), len(df[df.location == 'North']) - 1, 0.05, 'two-sided')"
   ]
  },
  {
   "cell_type": "code",
   "execution_count": 25,
   "metadata": {},
   "outputs": [
    {
     "name": "stdout",
     "output_type": "stream",
     "text": [
      "(1320.1517462936238, 1433.463638321761)\n",
      "(1586.5605251961385, 1680.6394748038613)\n"
     ]
    }
   ],
   "source": [
    "\n"
   ]
  },
  {
   "cell_type": "code",
   "execution_count": null,
   "metadata": {},
   "outputs": [],
   "source": []
  }
 ],
 "metadata": {
  "kernelspec": {
   "display_name": "Python 2",
   "language": "python",
   "name": "python2"
  },
  "language_info": {
   "codemirror_mode": {
    "name": "ipython",
    "version": 2
   },
   "file_extension": ".py",
   "mimetype": "text/x-python",
   "name": "python",
   "nbconvert_exporter": "python",
   "pygments_lexer": "ipython2",
   "version": "2.7.16"
  }
 },
 "nbformat": 4,
 "nbformat_minor": 2
}
