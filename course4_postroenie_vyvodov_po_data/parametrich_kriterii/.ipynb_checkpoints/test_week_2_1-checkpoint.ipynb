{
 "cells": [
  {
   "cell_type": "code",
   "execution_count": 1,
   "metadata": {},
   "outputs": [],
   "source": [
    "import scipy\n",
    "from statsmodels.stats.weightstats import *\n"
   ]
  },
  {
   "cell_type": "code",
   "execution_count": 3,
   "metadata": {},
   "outputs": [
    {
     "data": {
      "text/plain": [
       "2.213594362117875"
      ]
     },
     "execution_count": 3,
     "metadata": {},
     "output_type": "execute_result"
    }
   ],
   "source": [
    "import numpy as np\n",
    "z= (9.57-9.5)/(0.4/np.sqrt(160))\n",
    "z"
   ]
  },
  {
   "cell_type": "code",
   "execution_count": 4,
   "metadata": {},
   "outputs": [],
   "source": [
    "import scipy.stats as sts\n",
    "norm_rv = sts.norm(0,1)"
   ]
  },
  {
   "cell_type": "code",
   "execution_count": 7,
   "metadata": {},
   "outputs": [
    {
     "data": {
      "text/plain": [
       "0.026856695507523787"
      ]
     },
     "execution_count": 7,
     "metadata": {},
     "output_type": "execute_result"
    }
   ],
   "source": [
    "2*(1-norm_rv.cdf(z))"
   ]
  },
  {
   "cell_type": "code",
   "execution_count": null,
   "metadata": {},
   "outputs": [],
   "source": [
    "2*(1-stats.t.cdf(abs(z), nu))"
   ]
  },
  {
   "cell_type": "code",
   "execution_count": 8,
   "metadata": {},
   "outputs": [],
   "source": [
    "import pandas as pd"
   ]
  },
  {
   "cell_type": "code",
   "execution_count": 11,
   "metadata": {},
   "outputs": [
    {
     "data": {
      "text/html": [
       "<div>\n",
       "<style scoped>\n",
       "    .dataframe tbody tr th:only-of-type {\n",
       "        vertical-align: middle;\n",
       "    }\n",
       "\n",
       "    .dataframe tbody tr th {\n",
       "        vertical-align: top;\n",
       "    }\n",
       "\n",
       "    .dataframe thead th {\n",
       "        text-align: right;\n",
       "    }\n",
       "</style>\n",
       "<table border=\"1\" class=\"dataframe\">\n",
       "  <thead>\n",
       "    <tr style=\"text-align: right;\">\n",
       "      <th></th>\n",
       "      <th>carat</th>\n",
       "      <th>depth</th>\n",
       "      <th>table</th>\n",
       "      <th>price</th>\n",
       "      <th>x</th>\n",
       "      <th>y</th>\n",
       "      <th>z</th>\n",
       "    </tr>\n",
       "  </thead>\n",
       "  <tbody>\n",
       "    <tr>\n",
       "      <th>0</th>\n",
       "      <td>0.23</td>\n",
       "      <td>61.5</td>\n",
       "      <td>55.0</td>\n",
       "      <td>326</td>\n",
       "      <td>3.95</td>\n",
       "      <td>3.98</td>\n",
       "      <td>2.43</td>\n",
       "    </tr>\n",
       "    <tr>\n",
       "      <th>1</th>\n",
       "      <td>0.21</td>\n",
       "      <td>59.8</td>\n",
       "      <td>61.0</td>\n",
       "      <td>326</td>\n",
       "      <td>3.89</td>\n",
       "      <td>3.84</td>\n",
       "      <td>2.31</td>\n",
       "    </tr>\n",
       "    <tr>\n",
       "      <th>2</th>\n",
       "      <td>0.23</td>\n",
       "      <td>56.9</td>\n",
       "      <td>65.0</td>\n",
       "      <td>327</td>\n",
       "      <td>4.05</td>\n",
       "      <td>4.07</td>\n",
       "      <td>2.31</td>\n",
       "    </tr>\n",
       "    <tr>\n",
       "      <th>3</th>\n",
       "      <td>0.29</td>\n",
       "      <td>62.4</td>\n",
       "      <td>58.0</td>\n",
       "      <td>334</td>\n",
       "      <td>4.20</td>\n",
       "      <td>4.23</td>\n",
       "      <td>2.63</td>\n",
       "    </tr>\n",
       "    <tr>\n",
       "      <th>4</th>\n",
       "      <td>0.31</td>\n",
       "      <td>63.3</td>\n",
       "      <td>58.0</td>\n",
       "      <td>335</td>\n",
       "      <td>4.34</td>\n",
       "      <td>4.35</td>\n",
       "      <td>2.75</td>\n",
       "    </tr>\n",
       "  </tbody>\n",
       "</table>\n",
       "</div>"
      ],
      "text/plain": [
       "   carat  depth  table  price     x     y     z\n",
       "0   0.23   61.5   55.0    326  3.95  3.98  2.43\n",
       "1   0.21   59.8   61.0    326  3.89  3.84  2.31\n",
       "2   0.23   56.9   65.0    327  4.05  4.07  2.31\n",
       "3   0.29   62.4   58.0    334  4.20  4.23  2.63\n",
       "4   0.31   63.3   58.0    335  4.34  4.35  2.75"
      ]
     },
     "execution_count": 11,
     "metadata": {},
     "output_type": "execute_result"
    }
   ],
   "source": [
    "df = pd.read_csv('diamonds.csv', sep='\\t')\n",
    "df.head()"
   ]
  },
  {
   "cell_type": "code",
   "execution_count": 15,
   "metadata": {},
   "outputs": [],
   "source": [
    "from sklearn.model_selection import train_test_split\n",
    "y = df['price']\n",
    "x = df.drop(['price'], axis=1)"
   ]
  },
  {
   "cell_type": "code",
   "execution_count": 17,
   "metadata": {},
   "outputs": [],
   "source": [
    "X_train, X_test, y_train, y_test =train_test_split(x, y, test_size=0.25, random_state=42)"
   ]
  },
  {
   "cell_type": "code",
   "execution_count": 19,
   "metadata": {},
   "outputs": [
    {
     "data": {
      "text/plain": [
       "LinearRegression(copy_X=True, fit_intercept=True, n_jobs=None,\n",
       "         normalize=False)"
      ]
     },
     "execution_count": 19,
     "metadata": {},
     "output_type": "execute_result"
    }
   ],
   "source": [
    "from sklearn.linear_model import LinearRegression\n",
    "model= LinearRegression()\n",
    "model.fit(X=X_train, y=y_train)"
   ]
  },
  {
   "cell_type": "code",
   "execution_count": 20,
   "metadata": {},
   "outputs": [
    {
     "name": "stderr",
     "output_type": "stream",
     "text": [
      "C:\\Users\\Vladuk\\Anaconda2\\lib\\site-packages\\sklearn\\ensemble\\forest.py:246: FutureWarning: The default value of n_estimators will change from 10 in version 0.20 to 100 in 0.22.\n",
      "  \"10 in version 0.20 to 100 in 0.22.\", FutureWarning)\n"
     ]
    },
    {
     "data": {
      "text/plain": [
       "RandomForestRegressor(bootstrap=True, criterion='mse', max_depth=None,\n",
       "           max_features='auto', max_leaf_nodes=None,\n",
       "           min_impurity_decrease=0.0, min_impurity_split=None,\n",
       "           min_samples_leaf=1, min_samples_split=2,\n",
       "           min_weight_fraction_leaf=0.0, n_estimators=10, n_jobs=None,\n",
       "           oob_score=False, random_state=1, verbose=0, warm_start=False)"
      ]
     },
     "execution_count": 20,
     "metadata": {},
     "output_type": "execute_result"
    }
   ],
   "source": [
    "from sklearn.ensemble import RandomForestRegressor\n",
    "model_rf = RandomForestRegressor(random_state=1)\n",
    "model_rf.fit(X=X_train, y=y_train)"
   ]
  },
  {
   "cell_type": "code",
   "execution_count": 21,
   "metadata": {},
   "outputs": [],
   "source": [
    "y_pred = model.predict(X_test)\n",
    "y_pred_rf = model_rf.predict(X_test)"
   ]
  },
  {
   "cell_type": "code",
   "execution_count": 24,
   "metadata": {},
   "outputs": [
    {
     "name": "stdout",
     "output_type": "stream",
     "text": [
      "1388      370.080311\n",
      "50052     163.115909\n",
      "41645     187.347557\n",
      "42377      74.098792\n",
      "17244    3127.010778\n",
      "1608     2787.976519\n",
      "46398     184.031970\n",
      "45493      76.466319\n",
      "49385     312.142958\n",
      "10460    1857.312957\n",
      "34243      13.050067\n",
      "24772     711.000026\n",
      "42987    1246.097891\n",
      "51711     482.398483\n",
      "43777     337.483075\n",
      "22232      96.247587\n",
      "1319     1174.078765\n",
      "43219     515.163811\n",
      "21843     387.936779\n",
      "53626     202.354855\n",
      "27497    3616.028925\n",
      "36554     186.347895\n",
      "21055      47.936109\n",
      "23028      46.313058\n",
      "5536      869.403120\n",
      "43434     519.437575\n",
      "38522     295.548306\n",
      "24964     523.231937\n",
      "19771    2253.722401\n",
      "40271     198.964736\n",
      "            ...     \n",
      "36419     218.676278\n",
      "16687      23.222809\n",
      "52481     628.379633\n",
      "22916     408.773704\n",
      "33596      55.980089\n",
      "52925     704.791029\n",
      "21072    2301.201636\n",
      "27985      63.653822\n",
      "2714      218.029647\n",
      "25377      22.340022\n",
      "40191     302.200395\n",
      "53882     502.043355\n",
      "24192     683.428412\n",
      "53917    1249.557072\n",
      "43462     499.834387\n",
      "10123     413.844599\n",
      "12815     168.521029\n",
      "51814    1199.974387\n",
      "4640      756.924845\n",
      "33970     126.207376\n",
      "7195       26.276729\n",
      "3579     1021.765738\n",
      "11477    1532.773266\n",
      "20123    2122.308208\n",
      "18968    2628.862873\n",
      "36825    1096.847499\n",
      "24803    2065.253664\n",
      "20999    2020.892610\n",
      "8471      716.107629\n",
      "4204     1691.012222\n",
      "Name: price, Length: 13485, dtype: float64\n",
      "1388       11.900000\n",
      "50052     448.600000\n",
      "41645     123.726667\n",
      "42377     256.100000\n",
      "17244    3613.600000\n",
      "1608     1311.200000\n",
      "46398      26.300000\n",
      "45493      46.500000\n",
      "49385     381.900000\n",
      "10460    3433.400000\n",
      "34243     199.500000\n",
      "24772     445.300000\n",
      "42987     343.500000\n",
      "51711      14.900000\n",
      "43777     185.000000\n",
      "22232    2130.200000\n",
      "1319      559.900000\n",
      "43219     360.900000\n",
      "21843      52.700000\n",
      "53626     155.800000\n",
      "27497    3579.800000\n",
      "36554      54.400000\n",
      "21055      55.550000\n",
      "23028      49.300000\n",
      "5536      514.800000\n",
      "43434     391.700000\n",
      "38522      84.200000\n",
      "24964     638.900000\n",
      "19771    4067.700000\n",
      "40271       2.900000\n",
      "            ...     \n",
      "36419      62.100000\n",
      "16687     238.800000\n",
      "52481     158.900000\n",
      "22916     939.400000\n",
      "33596     280.900000\n",
      "52925     327.200000\n",
      "21072    2203.700000\n",
      "27985     109.566667\n",
      "2714      171.883333\n",
      "25377      94.200000\n",
      "40191     379.300000\n",
      "53882     287.500000\n",
      "24192      92.800000\n",
      "53917     765.300000\n",
      "43462     551.800000\n",
      "10123    2466.600000\n",
      "12815     487.750000\n",
      "51814     532.800000\n",
      "4640      374.500000\n",
      "33970      63.800000\n",
      "7195      362.800000\n",
      "3579      498.200000\n",
      "11477    3204.000000\n",
      "20123    4562.100000\n",
      "18968    1805.900000\n",
      "36825     795.100000\n",
      "24803    1294.300000\n",
      "20999    3481.200000\n",
      "8471     3461.600000\n",
      "4204     1511.500000\n",
      "Name: price, Length: 13485, dtype: float64\n"
     ]
    }
   ],
   "source": [
    "delta = abs(y_pred - y_test)\n",
    "print delta\n",
    "delta_rf = abs(y_pred_rf - y_test)\n",
    "print delta_rf"
   ]
  },
  {
   "cell_type": "code",
   "execution_count": 25,
   "metadata": {},
   "outputs": [
    {
     "name": "stdout",
     "output_type": "stream",
     "text": [
      "887.506969716\n",
      "816.032396111\n"
     ]
    }
   ],
   "source": [
    "print delta.mean()\n",
    "print delta_rf.mean()"
   ]
  },
  {
   "cell_type": "code",
   "execution_count": 26,
   "metadata": {},
   "outputs": [
    {
     "name": "stdout",
     "output_type": "stream",
     "text": [
      "Ttest_indResult(statistic=4.935844413025041, pvalue=8.028045728386261e-07)\n",
      "95% confidence interval: [43.091613, 99.857534]\n"
     ]
    }
   ],
   "source": [
    "print scipy.stats.ttest_ind(delta, delta_rf, equal_var = False) #значение статистики и уровень значимости\n",
    "cm = CompareMeans(DescrStatsW(delta), DescrStatsW(delta_rf)) #сравнение средних\n",
    "print \"95%% confidence interval: [%f, %f]\" % cm.tconfint_diff(usevar='unequal') #доверительный интервал для разности средних"
   ]
  },
  {
   "cell_type": "code",
   "execution_count": null,
   "metadata": {},
   "outputs": [],
   "source": []
  }
 ],
 "metadata": {
  "kernelspec": {
   "display_name": "Python 2",
   "language": "python",
   "name": "python2"
  },
  "language_info": {
   "codemirror_mode": {
    "name": "ipython",
    "version": 2
   },
   "file_extension": ".py",
   "mimetype": "text/x-python",
   "name": "python",
   "nbconvert_exporter": "python",
   "pygments_lexer": "ipython2",
   "version": "2.7.16"
  }
 },
 "nbformat": 4,
 "nbformat_minor": 2
}
