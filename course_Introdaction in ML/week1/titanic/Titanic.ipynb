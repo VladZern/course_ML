{
 "cells": [
  {
   "cell_type": "code",
   "execution_count": 1,
   "metadata": {},
   "outputs": [],
   "source": [
    "import pandas as pd\n",
    "import numpy as np\n",
    "import matplotlib as mpl\n",
    "import matplotlib.pyplot as plt\n",
    "import seaborn; seaborn.set()"
   ]
  },
  {
   "cell_type": "code",
   "execution_count": 4,
   "metadata": {},
   "outputs": [
    {
     "data": {
      "text/html": [
       "<div>\n",
       "<style scoped>\n",
       "    .dataframe tbody tr th:only-of-type {\n",
       "        vertical-align: middle;\n",
       "    }\n",
       "\n",
       "    .dataframe tbody tr th {\n",
       "        vertical-align: top;\n",
       "    }\n",
       "\n",
       "    .dataframe thead th {\n",
       "        text-align: right;\n",
       "    }\n",
       "</style>\n",
       "<table border=\"1\" class=\"dataframe\">\n",
       "  <thead>\n",
       "    <tr style=\"text-align: right;\">\n",
       "      <th></th>\n",
       "      <th>Survived</th>\n",
       "      <th>Pclass</th>\n",
       "      <th>Name</th>\n",
       "      <th>Sex</th>\n",
       "      <th>Age</th>\n",
       "      <th>SibSp</th>\n",
       "      <th>Parch</th>\n",
       "      <th>Ticket</th>\n",
       "      <th>Fare</th>\n",
       "      <th>Cabin</th>\n",
       "      <th>Embarked</th>\n",
       "    </tr>\n",
       "    <tr>\n",
       "      <th>PassengerId</th>\n",
       "      <th></th>\n",
       "      <th></th>\n",
       "      <th></th>\n",
       "      <th></th>\n",
       "      <th></th>\n",
       "      <th></th>\n",
       "      <th></th>\n",
       "      <th></th>\n",
       "      <th></th>\n",
       "      <th></th>\n",
       "      <th></th>\n",
       "    </tr>\n",
       "  </thead>\n",
       "  <tbody>\n",
       "    <tr>\n",
       "      <th>1</th>\n",
       "      <td>0</td>\n",
       "      <td>3</td>\n",
       "      <td>Braund, Mr. Owen Harris</td>\n",
       "      <td>male</td>\n",
       "      <td>22.0</td>\n",
       "      <td>1</td>\n",
       "      <td>0</td>\n",
       "      <td>A/5 21171</td>\n",
       "      <td>7.2500</td>\n",
       "      <td>NaN</td>\n",
       "      <td>S</td>\n",
       "    </tr>\n",
       "    <tr>\n",
       "      <th>2</th>\n",
       "      <td>1</td>\n",
       "      <td>1</td>\n",
       "      <td>Cumings, Mrs. John Bradley (Florence Briggs Th...</td>\n",
       "      <td>female</td>\n",
       "      <td>38.0</td>\n",
       "      <td>1</td>\n",
       "      <td>0</td>\n",
       "      <td>PC 17599</td>\n",
       "      <td>71.2833</td>\n",
       "      <td>C85</td>\n",
       "      <td>C</td>\n",
       "    </tr>\n",
       "    <tr>\n",
       "      <th>3</th>\n",
       "      <td>1</td>\n",
       "      <td>3</td>\n",
       "      <td>Heikkinen, Miss. Laina</td>\n",
       "      <td>female</td>\n",
       "      <td>26.0</td>\n",
       "      <td>0</td>\n",
       "      <td>0</td>\n",
       "      <td>STON/O2. 3101282</td>\n",
       "      <td>7.9250</td>\n",
       "      <td>NaN</td>\n",
       "      <td>S</td>\n",
       "    </tr>\n",
       "    <tr>\n",
       "      <th>4</th>\n",
       "      <td>1</td>\n",
       "      <td>1</td>\n",
       "      <td>Futrelle, Mrs. Jacques Heath (Lily May Peel)</td>\n",
       "      <td>female</td>\n",
       "      <td>35.0</td>\n",
       "      <td>1</td>\n",
       "      <td>0</td>\n",
       "      <td>113803</td>\n",
       "      <td>53.1000</td>\n",
       "      <td>C123</td>\n",
       "      <td>S</td>\n",
       "    </tr>\n",
       "    <tr>\n",
       "      <th>5</th>\n",
       "      <td>0</td>\n",
       "      <td>3</td>\n",
       "      <td>Allen, Mr. William Henry</td>\n",
       "      <td>male</td>\n",
       "      <td>35.0</td>\n",
       "      <td>0</td>\n",
       "      <td>0</td>\n",
       "      <td>373450</td>\n",
       "      <td>8.0500</td>\n",
       "      <td>NaN</td>\n",
       "      <td>S</td>\n",
       "    </tr>\n",
       "  </tbody>\n",
       "</table>\n",
       "</div>"
      ],
      "text/plain": [
       "             Survived  Pclass  \\\n",
       "PassengerId                     \n",
       "1                   0       3   \n",
       "2                   1       1   \n",
       "3                   1       3   \n",
       "4                   1       1   \n",
       "5                   0       3   \n",
       "\n",
       "                                                          Name     Sex   Age  \\\n",
       "PassengerId                                                                    \n",
       "1                                      Braund, Mr. Owen Harris    male  22.0   \n",
       "2            Cumings, Mrs. John Bradley (Florence Briggs Th...  female  38.0   \n",
       "3                                       Heikkinen, Miss. Laina  female  26.0   \n",
       "4                 Futrelle, Mrs. Jacques Heath (Lily May Peel)  female  35.0   \n",
       "5                                     Allen, Mr. William Henry    male  35.0   \n",
       "\n",
       "             SibSp  Parch            Ticket     Fare Cabin Embarked  \n",
       "PassengerId                                                          \n",
       "1                1      0         A/5 21171   7.2500   NaN        S  \n",
       "2                1      0          PC 17599  71.2833   C85        C  \n",
       "3                0      0  STON/O2. 3101282   7.9250   NaN        S  \n",
       "4                1      0            113803  53.1000  C123        S  \n",
       "5                0      0            373450   8.0500   NaN        S  "
      ]
     },
     "execution_count": 4,
     "metadata": {},
     "output_type": "execute_result"
    }
   ],
   "source": [
    "data = pd.read_csv('titanic.csv', index_col='PassengerId')\n",
    "data.head()"
   ]
  },
  {
   "cell_type": "code",
   "execution_count": 22,
   "metadata": {},
   "outputs": [
    {
     "name": "stdout",
     "output_type": "stream",
     "text": [
      "male      577\n",
      "female    314\n",
      "Name: Sex, dtype: int64\n",
      "577 314\n"
     ]
    }
   ],
   "source": [
    "print data['Sex'].value_counts()\n",
    "answer1 = str(data['Sex'].value_counts()[0]) + ' ' + str(data['Sex'].value_counts()[1])\n",
    "print  answer1\n",
    "f = open('answer1.txt', 'w')\n",
    "f.write(answer1)\n",
    "f.close()"
   ]
  },
  {
   "cell_type": "code",
   "execution_count": 38,
   "metadata": {},
   "outputs": [
    {
     "name": "stdout",
     "output_type": "stream",
     "text": [
      "0    549\n",
      "1    342\n",
      "Name: Survived, dtype: int64\n",
      "891\n",
      "38.38\n",
      "61.62\n",
      "38.38\n"
     ]
    }
   ],
   "source": [
    "print data['Survived'].value_counts()\n",
    "all_p = data['Survived'].value_counts()[0] + data['Survived'].value_counts()[1]\n",
    "surv_d = data['Survived'].value_counts()[1] / all_p.astype(float) * 100\n",
    "unsurv_d = data['Survived'].value_counts()[0] / all_p.astype(float) * 100\n",
    "print all_p\n",
    "print surv_d.round(2)\n",
    "print unsurv_d.round(2)\n",
    "\n",
    "answer2 = str(surv_d.round(2))\n",
    "print  answer2\n",
    "f = open('answer2.txt', 'w')\n",
    "f.write(answer2)\n",
    "f.close()"
   ]
  },
  {
   "cell_type": "code",
   "execution_count": 44,
   "metadata": {},
   "outputs": [
    {
     "name": "stdout",
     "output_type": "stream",
     "text": [
      "3    491\n",
      "1    216\n",
      "2    184\n",
      "Name: Pclass, dtype: int64\n",
      "24.24\n",
      "24.24\n"
     ]
    }
   ],
   "source": [
    "print data['Pclass'].value_counts()\n",
    "all_pc = data['Pclass'].count()\n",
    "p1c = data['Pclass'].value_counts()[1]/all_pc.astype(float) * 100\n",
    "print p1c.round(2)\n",
    "\n",
    "answer3 = str(p1c.round(2))\n",
    "print  answer3\n",
    "f = open('answer3.txt', 'w')\n",
    "f.write(answer3)\n",
    "f.close()"
   ]
  },
  {
   "cell_type": "code",
   "execution_count": 98,
   "metadata": {},
   "outputs": [
    {
     "name": "stdout",
     "output_type": "stream",
     "text": [
      "29.7\n",
      "28.0\n",
      "29.7 28.0\n"
     ]
    }
   ],
   "source": [
    "mean_age = data['Age'].mean()\n",
    "median_age = data['Age'].median()\n",
    "print np.round(mean_age,2)\n",
    "print median_age\n",
    "answer4 = str(np.round(mean_age,2)) +' '+ str(median_age)\n",
    "print  answer4\n",
    "f = open('answer4.txt', 'w')\n",
    "f.write(answer4)\n",
    "f.close()"
   ]
  },
  {
   "cell_type": "code",
   "execution_count": 97,
   "metadata": {},
   "outputs": [
    {
     "name": "stdout",
     "output_type": "stream",
     "text": [
      "0.41\n"
     ]
    }
   ],
   "source": [
    "corr = np.corrcoef(data['SibSp'], data['Parch'])[0][1]\n",
    "answer5 = str(corr.round(2))\n",
    "print  answer5\n",
    "f = open('answer5.txt', 'w')\n",
    "f.write(answer5)\n",
    "f.close()"
   ]
  },
  {
   "cell_type": "code",
   "execution_count": 87,
   "metadata": {},
   "outputs": [
    {
     "data": {
      "text/plain": [
       "PassengerId\n",
       "1       John\n",
       "2      Laina\n",
       "3    Jacques\n",
       "4    William\n",
       "5      James\n",
       "Name: Title, dtype: object"
      ]
     },
     "execution_count": 87,
     "metadata": {},
     "output_type": "execute_result"
    }
   ],
   "source": [
    "train_title = [i.split(\" \")[2].strip() for i in data[\"Name\"]]\n",
    "data[\"Title\"] = pd.Series(train_title)\n",
    "data[\"Title\"].head()"
   ]
  },
  {
   "cell_type": "code",
   "execution_count": 96,
   "metadata": {},
   "outputs": [],
   "source": [
    "femalename = data[\"Title\"][data['Sex']=='female'].value_counts().index[0]\n",
    "f = open('answer6.txt', 'w')\n",
    "f.write(femalename)\n",
    "f.close()"
   ]
  },
  {
   "cell_type": "code",
   "execution_count": 100,
   "metadata": {},
   "outputs": [
    {
     "data": {
      "text/plain": [
       "William      22\n",
       "John         12\n",
       "George        9\n",
       "Thomas        6\n",
       "Albert        5\n",
       "Alfred        5\n",
       "Frederick     5\n",
       "Henry         4\n",
       "Karl          4\n",
       "Samuel        4\n",
       "Mary          4\n",
       "Ernest        4\n",
       "Edward        4\n",
       "Johan         3\n",
       "Peter         3\n",
       "Charles       3\n",
       "Anna          3\n",
       "Arthur        3\n",
       "Ellen         2\n",
       "Sinai         2\n",
       "Elizabeth     2\n",
       "Dickinson     2\n",
       "Michel        2\n",
       "James         2\n",
       "Harry         2\n",
       "Mr.           2\n",
       "Frank         2\n",
       "Robert        2\n",
       "Marion        2\n",
       "David         2\n",
       "             ..\n",
       "Francesco     1\n",
       "Elisabeth     1\n",
       "Viljo         1\n",
       "Petco         1\n",
       "Nikola        1\n",
       "Agnes         1\n",
       "Spencer       1\n",
       "Ingeborg      1\n",
       "Harold        1\n",
       "Jeremiah      1\n",
       "Olof          1\n",
       "Lawrence      1\n",
       "Youssef       1\n",
       "Eva           1\n",
       "Urho          1\n",
       "Henriette     1\n",
       "Svend         1\n",
       "Ambrose       1\n",
       "Alexander     1\n",
       "Engelhart     1\n",
       "Marija        1\n",
       "Hans          1\n",
       "Carl          1\n",
       "Katherine     1\n",
       "August        1\n",
       "Laina         1\n",
       "Sigvard       1\n",
       "Lalio         1\n",
       "Sigrid        1\n",
       "Manent,       1\n",
       "Name: Title, Length: 200, dtype: int64"
      ]
     },
     "execution_count": 100,
     "metadata": {},
     "output_type": "execute_result"
    }
   ],
   "source": [
    "data[\"Title\"][data['Sex']=='female'].value_counts()"
   ]
  },
  {
   "cell_type": "code",
   "execution_count": 101,
   "metadata": {},
   "outputs": [],
   "source": [
    "f = open('answer6.txt', 'w')\n",
    "f.write('Mary')\n",
    "f.close()"
   ]
  },
  {
   "cell_type": "code",
   "execution_count": null,
   "metadata": {},
   "outputs": [],
   "source": []
  }
 ],
 "metadata": {
  "kernelspec": {
   "display_name": "Python 2",
   "language": "python",
   "name": "python2"
  },
  "language_info": {
   "codemirror_mode": {
    "name": "ipython",
    "version": 2
   },
   "file_extension": ".py",
   "mimetype": "text/x-python",
   "name": "python",
   "nbconvert_exporter": "python",
   "pygments_lexer": "ipython2",
   "version": "2.7.16"
  }
 },
 "nbformat": 4,
 "nbformat_minor": 2
}
